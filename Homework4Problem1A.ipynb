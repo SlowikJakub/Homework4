{
  "nbformat": 4,
  "nbformat_minor": 0,
  "metadata": {
    "kernelspec": {
      "display_name": "Python 3",
      "language": "python",
      "name": "python3"
    },
    "language_info": {
      "codemirror_mode": {
        "name": "ipython",
        "version": 3
      },
      "file_extension": ".py",
      "mimetype": "text/x-python",
      "name": "python",
      "nbconvert_exporter": "python",
      "pygments_lexer": "ipython3",
      "version": "3.7.6"
    },
    "colab": {
      "name": "Homework4Problem1A.ipynb",
      "provenance": [],
      "collapsed_sections": [],
      "include_colab_link": true
    },
    "accelerator": "GPU"
  },
  "cells": [
    {
      "cell_type": "markdown",
      "metadata": {
        "id": "view-in-github",
        "colab_type": "text"
      },
      "source": [
        "<a href=\"https://colab.research.google.com/github/SlowikJakub/Homework4/blob/main/Homework4Problem1A.ipynb\" target=\"_parent\"><img src=\"https://colab.research.google.com/assets/colab-badge.svg\" alt=\"Open In Colab\"/></a>"
      ]
    },
    {
      "cell_type": "code",
      "metadata": {
        "id": "ZXjxB8NUbz5j",
        "colab": {
          "base_uri": "https://localhost:8080/"
        },
        "outputId": "79565c4d-bcb6-41bf-b78a-7a3c28fa954b"
      },
      "source": [
        "%matplotlib inline\n",
        "from matplotlib import pyplot as plt\n",
        "import numpy as np\n",
        "import torch\n",
        "\n",
        "torch.set_printoptions(edgeitems=2)\n",
        "torch.manual_seed(123)"
      ],
      "execution_count": 101,
      "outputs": [
        {
          "output_type": "execute_result",
          "data": {
            "text/plain": [
              "<torch._C.Generator at 0x7f13ab532910>"
            ]
          },
          "metadata": {
            "tags": []
          },
          "execution_count": 101
        }
      ]
    },
    {
      "cell_type": "code",
      "metadata": {
        "id": "CU_-Pb91bz5q"
      },
      "source": [
        "class_names = ['airplane','automobile','bird','cat','deer',\n",
        "               'dog','frog','horse','ship','truck']"
      ],
      "execution_count": 102,
      "outputs": []
    },
    {
      "cell_type": "code",
      "metadata": {
        "id": "At_NMjzIbz5r",
        "colab": {
          "base_uri": "https://localhost:8080/"
        },
        "outputId": "1003306c-04b5-484b-bebf-fbc293a427aa"
      },
      "source": [
        "from torchvision import datasets, transforms\n",
        "data_path = '../data-unversioned/p1ch7/'\n",
        "cifar10 = datasets.CIFAR10(\n",
        "    data_path, train=True, download=True,\n",
        "    transform=transforms.Compose([\n",
        "        transforms.ToTensor(),\n",
        "        transforms.Normalize((0.4915, 0.4823, 0.4468),\n",
        "                             (0.2470, 0.2435, 0.2616))\n",
        "    ]))"
      ],
      "execution_count": 103,
      "outputs": [
        {
          "output_type": "stream",
          "text": [
            "Files already downloaded and verified\n"
          ],
          "name": "stdout"
        }
      ]
    },
    {
      "cell_type": "code",
      "metadata": {
        "id": "cbD1d47Gbz5s",
        "colab": {
          "base_uri": "https://localhost:8080/"
        },
        "outputId": "c101097e-3c0d-4f68-cd49-2a38584436df"
      },
      "source": [
        "cifar10_val = datasets.CIFAR10(\n",
        "    data_path, train=False, download=True,\n",
        "    transform=transforms.Compose([\n",
        "        transforms.ToTensor(),\n",
        "        transforms.Normalize((0.4915, 0.4823, 0.4468),\n",
        "                             (0.2470, 0.2435, 0.2616))\n",
        "    ]))"
      ],
      "execution_count": 104,
      "outputs": [
        {
          "output_type": "stream",
          "text": [
            "Files already downloaded and verified\n"
          ],
          "name": "stdout"
        }
      ]
    },
    {
      "cell_type": "code",
      "metadata": {
        "id": "kr3_LFjRbz5t"
      },
      "source": [
        "label_map = {6:0, 7:1, 8:2, 9:3}\n",
        "class_names = ['frog', 'horse','ship','truck']\n",
        "cifar2 = [(img, label_map[label])\n",
        "          for img, label in cifar10 \n",
        "          if label in [6,7,8,9]]\n",
        "cifar2_val = [(img, label_map[label])\n",
        "              for img, label in cifar10_val\n",
        "              if label in [6,7,8,9]]"
      ],
      "execution_count": 105,
      "outputs": []
    },
    {
      "cell_type": "code",
      "metadata": {
        "id": "_sN4rurIbz5t"
      },
      "source": [
        "import torch.nn as nn\n",
        "\n",
        "n_out = 2\n",
        "\n",
        "model = nn.Sequential(\n",
        "            nn.Linear(\n",
        "                3072,  # <1>\n",
        "                512,   # <2>\n",
        "            ),\n",
        "            nn.Tanh(),\n",
        "            nn.Linear(\n",
        "                512,   # <2>\n",
        "                n_out, # <3>\n",
        "            )\n",
        "        )"
      ],
      "execution_count": 106,
      "outputs": []
    },
    {
      "cell_type": "code",
      "metadata": {
        "id": "YrH61GLZbz5v"
      },
      "source": [
        "def softmax(x):\n",
        "    return torch.exp(x) / torch.exp(x).sum()"
      ],
      "execution_count": 107,
      "outputs": []
    },
    {
      "cell_type": "code",
      "metadata": {
        "id": "2vCVAdb8bz5v",
        "colab": {
          "base_uri": "https://localhost:8080/"
        },
        "outputId": "dc62903e-9f84-4e6f-cf3e-5bc505c32690"
      },
      "source": [
        "x = torch.tensor([1.0, 2.0, 3.0])\n",
        "\n",
        "softmax(x)"
      ],
      "execution_count": 108,
      "outputs": [
        {
          "output_type": "execute_result",
          "data": {
            "text/plain": [
              "tensor([0.0900, 0.2447, 0.6652])"
            ]
          },
          "metadata": {
            "tags": []
          },
          "execution_count": 108
        }
      ]
    },
    {
      "cell_type": "code",
      "metadata": {
        "id": "2voLQStnbz5v",
        "colab": {
          "base_uri": "https://localhost:8080/"
        },
        "outputId": "e9c30bf4-b2b1-4ac7-cd7e-de4484723782"
      },
      "source": [
        "softmax(x).sum()"
      ],
      "execution_count": 109,
      "outputs": [
        {
          "output_type": "execute_result",
          "data": {
            "text/plain": [
              "tensor(1.)"
            ]
          },
          "metadata": {
            "tags": []
          },
          "execution_count": 109
        }
      ]
    },
    {
      "cell_type": "code",
      "metadata": {
        "id": "jCkxCowHbz5w",
        "colab": {
          "base_uri": "https://localhost:8080/"
        },
        "outputId": "472f3074-0dc2-4c52-bd4e-8f2f00f9a21f"
      },
      "source": [
        "softmax = nn.Softmax(dim=1)\n",
        "\n",
        "x = torch.tensor([[1.0, 2.0, 3.0],\n",
        "                  [1.0, 2.0, 3.0]])\n",
        "\n",
        "softmax(x)"
      ],
      "execution_count": 110,
      "outputs": [
        {
          "output_type": "execute_result",
          "data": {
            "text/plain": [
              "tensor([[0.0900, 0.2447, 0.6652],\n",
              "        [0.0900, 0.2447, 0.6652]])"
            ]
          },
          "metadata": {
            "tags": []
          },
          "execution_count": 110
        }
      ]
    },
    {
      "cell_type": "code",
      "metadata": {
        "id": "jnR3niMubz5x"
      },
      "source": [
        "model = nn.Sequential(\n",
        "            nn.Linear(3072, 512),\n",
        "            nn.Tanh(),\n",
        "            nn.Linear(512, 2),\n",
        "            nn.Softmax(dim=1))"
      ],
      "execution_count": 111,
      "outputs": []
    },
    {
      "cell_type": "code",
      "metadata": {
        "id": "d6e7n_G-bz5y",
        "colab": {
          "base_uri": "https://localhost:8080/",
          "height": 284
        },
        "outputId": "03732e13-8831-4766-cf5a-87eb4c86f700"
      },
      "source": [
        "img, _ = cifar2[0]\n",
        "\n",
        "plt.imshow(img.permute(1, 2, 0))\n",
        "plt.show()"
      ],
      "execution_count": 112,
      "outputs": [
        {
          "output_type": "stream",
          "text": [
            "Clipping input data to the valid range for imshow with RGB data ([0..1] for floats or [0..255] for integers).\n"
          ],
          "name": "stderr"
        },
        {
          "output_type": "display_data",
          "data": {
            "image/png": "[encoded data removed]",
            "text/plain": [
              "<Figure size 432x288 with 1 Axes>"
            ]
          },
          "metadata": {
            "tags": [],
            "needs_background": "light"
          }
        }
      ]
    },
    {
      "cell_type": "code",
      "metadata": {
        "id": "R9lx5Zyfbz5z"
      },
      "source": [
        "img_batch = img.view(-1).unsqueeze(0)"
      ],
      "execution_count": 113,
      "outputs": []
    },
    {
      "cell_type": "code",
      "metadata": {
        "id": "HWuZC2nYbz5z",
        "colab": {
          "base_uri": "https://localhost:8080/"
        },
        "outputId": "6355cf5e-3ea1-4364-d281-dca25abf7b61"
      },
      "source": [
        "out = model(img_batch)\n",
        "out"
      ],
      "execution_count": 114,
      "outputs": [
        {
          "output_type": "execute_result",
          "data": {
            "text/plain": [
              "tensor([[0.4813, 0.5187]], grad_fn=<SoftmaxBackward>)"
            ]
          },
          "metadata": {
            "tags": []
          },
          "execution_count": 114
        }
      ]
    },
    {
      "cell_type": "code",
      "metadata": {
        "id": "M1Hoffnqbz5z",
        "colab": {
          "base_uri": "https://localhost:8080/"
        },
        "outputId": "fa4806ff-66e2-47b1-f284-1a9c3873f0a3"
      },
      "source": [
        "_, index = torch.max(out, dim=1)\n",
        "\n",
        "index"
      ],
      "execution_count": 115,
      "outputs": [
        {
          "output_type": "execute_result",
          "data": {
            "text/plain": [
              "tensor([1])"
            ]
          },
          "metadata": {
            "tags": []
          },
          "execution_count": 115
        }
      ]
    },
    {
      "cell_type": "code",
      "metadata": {
        "id": "7S2270Gybz50",
        "colab": {
          "base_uri": "https://localhost:8080/"
        },
        "outputId": "0af2cb56-8090-4c49-ab6b-f015c43741f4"
      },
      "source": [
        "out = torch.tensor([\n",
        "    [0.6, 0.4],\n",
        "    [0.9, 0.1],\n",
        "    [0.3, 0.7],\n",
        "    [0.2, 0.8],\n",
        "])\n",
        "class_index = torch.tensor([0, 0, 1, 1]).unsqueeze(1)\n",
        "\n",
        "truth = torch.zeros((4,2))\n",
        "truth.scatter_(dim=1, index=class_index, value=1.0)\n",
        "truth"
      ],
      "execution_count": 116,
      "outputs": [
        {
          "output_type": "execute_result",
          "data": {
            "text/plain": [
              "tensor([[1., 0.],\n",
              "        [1., 0.],\n",
              "        [0., 1.],\n",
              "        [0., 1.]])"
            ]
          },
          "metadata": {
            "tags": []
          },
          "execution_count": 116
        }
      ]
    },
    {
      "cell_type": "code",
      "metadata": {
        "id": "jtseDT2ubz50",
        "colab": {
          "base_uri": "https://localhost:8080/"
        },
        "outputId": "f95b764e-ce9a-433d-8960-7bc8b101eb26"
      },
      "source": [
        "def mse(out):\n",
        "    return ((out - truth) ** 2).sum(dim=1).mean()\n",
        "mse(out)"
      ],
      "execution_count": 117,
      "outputs": [
        {
          "output_type": "execute_result",
          "data": {
            "text/plain": [
              "tensor(0.1500)"
            ]
          },
          "metadata": {
            "tags": []
          },
          "execution_count": 117
        }
      ]
    },
    {
      "cell_type": "code",
      "metadata": {
        "id": "41q7V2Acbz51",
        "colab": {
          "base_uri": "https://localhost:8080/"
        },
        "outputId": "6b510250-aea5-4e06-a551-1cab3d6de659"
      },
      "source": [
        "out.gather(dim=1, index=class_index)"
      ],
      "execution_count": 118,
      "outputs": [
        {
          "output_type": "execute_result",
          "data": {
            "text/plain": [
              "tensor([[0.6000],\n",
              "        [0.9000],\n",
              "        [0.7000],\n",
              "        [0.8000]])"
            ]
          },
          "metadata": {
            "tags": []
          },
          "execution_count": 118
        }
      ]
    },
    {
      "cell_type": "code",
      "metadata": {
        "id": "pjrpXuhHbz51",
        "colab": {
          "base_uri": "https://localhost:8080/"
        },
        "outputId": "8cd12d6a-2031-4c34-9ca4-5c74f55a50ea"
      },
      "source": [
        "def likelihood(out):\n",
        "    prod = 1.0\n",
        "    for x in out.gather(dim=1, index=class_index):\n",
        "        prod *= x\n",
        "    return prod\n",
        "\n",
        "likelihood(out)"
      ],
      "execution_count": 119,
      "outputs": [
        {
          "output_type": "execute_result",
          "data": {
            "text/plain": [
              "tensor([0.3024])"
            ]
          },
          "metadata": {
            "tags": []
          },
          "execution_count": 119
        }
      ]
    },
    {
      "cell_type": "code",
      "metadata": {
        "id": "5IiYiYyCbz52",
        "colab": {
          "base_uri": "https://localhost:8080/"
        },
        "outputId": "1fcd4b26-85e6-46a9-e2e1-981eead98d20"
      },
      "source": [
        "def neg_log_likelihood(out):\n",
        "    return -likelihood(out).log()\n",
        "\n",
        "neg_log_likelihood(out)"
      ],
      "execution_count": 120,
      "outputs": [
        {
          "output_type": "execute_result",
          "data": {
            "text/plain": [
              "tensor([1.1960])"
            ]
          },
          "metadata": {
            "tags": []
          },
          "execution_count": 120
        }
      ]
    },
    {
      "cell_type": "code",
      "metadata": {
        "id": "J8GTc8EPbz52",
        "colab": {
          "base_uri": "https://localhost:8080/"
        },
        "outputId": "4cd58976-1a83-46e4-b819-52674f25a1ce"
      },
      "source": [
        "out0 = out.clone().detach()\n",
        "out0[0] = torch.tensor([0.9, 0.1]) # more right\n",
        "\n",
        "out2 = out.clone().detach()\n",
        "out2[0] = torch.tensor([0.4, 0.6]) # slightly wrong\n",
        "\n",
        "out3 = out.clone().detach()\n",
        "out3[0] = torch.tensor([0.1, 0.9]) # very wrong\n",
        "\n",
        "mse_comparison = torch.tensor([mse(o) for o in [out0, out, out2, out3]])\n",
        "mse_comparison"
      ],
      "execution_count": 121,
      "outputs": [
        {
          "output_type": "execute_result",
          "data": {
            "text/plain": [
              "tensor([0.0750, 0.1500, 0.2500, 0.4750])"
            ]
          },
          "metadata": {
            "tags": []
          },
          "execution_count": 121
        }
      ]
    },
    {
      "cell_type": "code",
      "metadata": {
        "id": "aFOSMoM3bz53",
        "colab": {
          "base_uri": "https://localhost:8080/"
        },
        "outputId": "04b584ec-232a-4900-a605-0a81282181c1"
      },
      "source": [
        "((mse_comparison / mse_comparison[1]) - 1) * 100"
      ],
      "execution_count": 122,
      "outputs": [
        {
          "output_type": "execute_result",
          "data": {
            "text/plain": [
              "tensor([-50.0000,   0.0000,  66.6667, 216.6667])"
            ]
          },
          "metadata": {
            "tags": []
          },
          "execution_count": 122
        }
      ]
    },
    {
      "cell_type": "code",
      "metadata": {
        "id": "0UmdxKFQbz53",
        "colab": {
          "base_uri": "https://localhost:8080/"
        },
        "outputId": "ba62f858-ebf7-4a06-99cc-eceb2ef2f243"
      },
      "source": [
        "nll_comparison = torch.tensor([neg_log_likelihood(o) \n",
        "                               for o in [out0, out, out2, out3]])\n",
        "nll_comparison"
      ],
      "execution_count": 123,
      "outputs": [
        {
          "output_type": "execute_result",
          "data": {
            "text/plain": [
              "tensor([0.7905, 1.1960, 1.6015, 2.9878])"
            ]
          },
          "metadata": {
            "tags": []
          },
          "execution_count": 123
        }
      ]
    },
    {
      "cell_type": "code",
      "metadata": {
        "id": "dHojUXPubz53",
        "colab": {
          "base_uri": "https://localhost:8080/"
        },
        "outputId": "cb474eb1-03a8-42c3-ab23-bdfe714a9c84"
      },
      "source": [
        "((nll_comparison / nll_comparison[1]) - 1) * 100"
      ],
      "execution_count": 124,
      "outputs": [
        {
          "output_type": "execute_result",
          "data": {
            "text/plain": [
              "tensor([-33.9016,   0.0000,  33.9016, 149.8121])"
            ]
          },
          "metadata": {
            "tags": []
          },
          "execution_count": 124
        }
      ]
    },
    {
      "cell_type": "code",
      "metadata": {
        "id": "nsXTZc08bz54",
        "colab": {
          "base_uri": "https://localhost:8080/"
        },
        "outputId": "10d2941c-1966-4d0a-9467-8e5c9d480e2e"
      },
      "source": [
        "softmax = nn.Softmax(dim=1)\n",
        "\n",
        "log_softmax = nn.LogSoftmax(dim=1)\n",
        "\n",
        "x = torch.tensor([[0.0, 104.0]])\n",
        "\n",
        "softmax(x)"
      ],
      "execution_count": 125,
      "outputs": [
        {
          "output_type": "execute_result",
          "data": {
            "text/plain": [
              "tensor([[0., 1.]])"
            ]
          },
          "metadata": {
            "tags": []
          },
          "execution_count": 125
        }
      ]
    },
    {
      "cell_type": "code",
      "metadata": {
        "id": "eMR2PfF4bz54",
        "colab": {
          "base_uri": "https://localhost:8080/"
        },
        "outputId": "91b30e1a-ff77-49a9-9798-bfe824a8ec9b"
      },
      "source": [
        "softmax = nn.Softmax(dim=1)\n",
        "\n",
        "log_softmax = nn.LogSoftmax(dim=1)\n",
        "\n",
        "x = torch.tensor([[0.0, 104.0]])\n",
        "\n",
        "softmax(x)"
      ],
      "execution_count": 126,
      "outputs": [
        {
          "output_type": "execute_result",
          "data": {
            "text/plain": [
              "tensor([[0., 1.]])"
            ]
          },
          "metadata": {
            "tags": []
          },
          "execution_count": 126
        }
      ]
    },
    {
      "cell_type": "code",
      "metadata": {
        "id": "trE05x9ibz55",
        "colab": {
          "base_uri": "https://localhost:8080/"
        },
        "outputId": "b7f31623-cd5a-408b-fed9-e28bc82eb16f"
      },
      "source": [
        "torch.log(softmax(x))"
      ],
      "execution_count": 127,
      "outputs": [
        {
          "output_type": "execute_result",
          "data": {
            "text/plain": [
              "tensor([[-inf, 0.]])"
            ]
          },
          "metadata": {
            "tags": []
          },
          "execution_count": 127
        }
      ]
    },
    {
      "cell_type": "code",
      "metadata": {
        "id": "e-wXDZJmbz55",
        "colab": {
          "base_uri": "https://localhost:8080/"
        },
        "outputId": "51a5d41e-828f-436a-e0e0-09678ff7298d"
      },
      "source": [
        "log_softmax(x)"
      ],
      "execution_count": 128,
      "outputs": [
        {
          "output_type": "execute_result",
          "data": {
            "text/plain": [
              "tensor([[-104.,    0.]])"
            ]
          },
          "metadata": {
            "tags": []
          },
          "execution_count": 128
        }
      ]
    },
    {
      "cell_type": "code",
      "metadata": {
        "id": "w9qRV03Lbz55",
        "colab": {
          "base_uri": "https://localhost:8080/"
        },
        "outputId": "2e86f70f-473e-4550-f77b-35c2ddd959c0"
      },
      "source": [
        "torch.exp(log_softmax(x))"
      ],
      "execution_count": 129,
      "outputs": [
        {
          "output_type": "execute_result",
          "data": {
            "text/plain": [
              "tensor([[0., 1.]])"
            ]
          },
          "metadata": {
            "tags": []
          },
          "execution_count": 129
        }
      ]
    },
    {
      "cell_type": "code",
      "metadata": {
        "id": "LvjAvWunbz55"
      },
      "source": [
        "model = nn.Sequential(\n",
        "            nn.Linear(3072, 512),\n",
        "            nn.Tanh(),\n",
        "            nn.Linear(512, 2),\n",
        "            nn.LogSoftmax(dim=1))"
      ],
      "execution_count": 130,
      "outputs": []
    },
    {
      "cell_type": "code",
      "metadata": {
        "id": "HF3kgZyibz55"
      },
      "source": [
        "loss = nn.NLLLoss()"
      ],
      "execution_count": 131,
      "outputs": []
    },
    {
      "cell_type": "code",
      "metadata": {
        "id": "Q6ljIOnRbz56",
        "colab": {
          "base_uri": "https://localhost:8080/"
        },
        "outputId": "5321ede4-2860-4ddc-90eb-f15614d15e57"
      },
      "source": [
        "img, label = cifar2[0]\n",
        "\n",
        "out = model(img.view(-1).unsqueeze(0))\n",
        "\n",
        "loss(out, torch.tensor([label]))"
      ],
      "execution_count": 132,
      "outputs": [
        {
          "output_type": "execute_result",
          "data": {
            "text/plain": [
              "tensor(0.8378, grad_fn=<NllLossBackward>)"
            ]
          },
          "metadata": {
            "tags": []
          },
          "execution_count": 132
        }
      ]
    },
    {
      "cell_type": "code",
      "metadata": {
        "id": "3wt5WB7Fbz56",
        "colab": {
          "base_uri": "https://localhost:8080/"
        },
        "outputId": "17f82db9-5d23-4ade-c925-f1d14f40705d"
      },
      "source": [
        "import torch\n",
        "import torch.nn as nn\n",
        "import torch.optim as optim\n",
        "\n",
        "model = nn.Sequential(\n",
        "            nn.Linear(3072, 512),\n",
        "            nn.Tanh(),\n",
        "            nn.Linear(512, 4),\n",
        "            nn.LogSoftmax(dim=1))\n",
        "\n",
        "learning_rate = 1e-2\n",
        "\n",
        "optimizer = optim.SGD(model.parameters(), lr=learning_rate)\n",
        "\n",
        "loss_fn = nn.NLLLoss()\n",
        "\n",
        "n_epochs = 200\n",
        "\n",
        "for epoch in range(n_epochs):\n",
        "    for img, label in cifar2:\n",
        "        out = model(img.view(-1).unsqueeze(0))\n",
        "        loss = loss_fn(out, torch.tensor([label]))\n",
        "                \n",
        "        optimizer.zero_grad()\n",
        "        loss.backward()\n",
        "        optimizer.step()\n",
        "\n",
        "    print(\"Epoch: %d, Loss: %f\" % (epoch, float(loss)))"
      ],
      "execution_count": 133,
      "outputs": [
        {
          "output_type": "stream",
          "text": [
            "Epoch: 0, Loss: 0.294478\n",
            "Epoch: 1, Loss: 0.910696\n",
            "Epoch: 2, Loss: 0.471947\n",
            "Epoch: 3, Loss: 0.032040\n",
            "Epoch: 4, Loss: 0.455476\n",
            "Epoch: 5, Loss: 0.017909\n",
            "Epoch: 6, Loss: 2.603172\n",
            "Epoch: 7, Loss: 0.010476\n",
            "Epoch: 8, Loss: 0.050255\n",
            "Epoch: 9, Loss: 0.002439\n",
            "Epoch: 10, Loss: 0.103982\n",
            "Epoch: 11, Loss: 0.026478\n",
            "Epoch: 12, Loss: 0.048797\n",
            "Epoch: 13, Loss: 0.000397\n",
            "Epoch: 14, Loss: 0.006390\n",
            "Epoch: 15, Loss: 0.094287\n",
            "Epoch: 16, Loss: 1.737019\n",
            "Epoch: 17, Loss: 0.002615\n",
            "Epoch: 18, Loss: 0.048782\n",
            "Epoch: 19, Loss: 0.012622\n",
            "Epoch: 20, Loss: 0.035479\n",
            "Epoch: 21, Loss: 0.002411\n",
            "Epoch: 22, Loss: 0.013675\n",
            "Epoch: 23, Loss: 0.023381\n",
            "Epoch: 24, Loss: 0.060501\n",
            "Epoch: 25, Loss: 0.092739\n",
            "Epoch: 26, Loss: 4.302836\n",
            "Epoch: 27, Loss: 3.095795\n",
            "Epoch: 28, Loss: 6.540529\n",
            "Epoch: 29, Loss: 0.068304\n",
            "Epoch: 30, Loss: 0.074100\n",
            "Epoch: 31, Loss: 4.357965\n",
            "Epoch: 32, Loss: 0.362240\n",
            "Epoch: 33, Loss: 0.000977\n",
            "Epoch: 34, Loss: 0.066295\n",
            "Epoch: 35, Loss: 0.796564\n",
            "Epoch: 36, Loss: 0.002711\n",
            "Epoch: 37, Loss: 0.000487\n",
            "Epoch: 38, Loss: 0.000099\n",
            "Epoch: 39, Loss: 0.000021\n",
            "Epoch: 40, Loss: 0.000075\n",
            "Epoch: 41, Loss: 0.011352\n",
            "Epoch: 42, Loss: 3.662285\n",
            "Epoch: 43, Loss: 0.036602\n",
            "Epoch: 44, Loss: 0.062360\n",
            "Epoch: 45, Loss: 1.147976\n",
            "Epoch: 46, Loss: 0.050222\n",
            "Epoch: 47, Loss: 0.047051\n",
            "Epoch: 48, Loss: 0.037799\n",
            "Epoch: 49, Loss: 0.004971\n",
            "Epoch: 50, Loss: 0.059781\n",
            "Epoch: 51, Loss: 0.000796\n",
            "Epoch: 52, Loss: 0.007272\n",
            "Epoch: 53, Loss: 1.051263\n",
            "Epoch: 54, Loss: 0.015603\n",
            "Epoch: 55, Loss: 0.007599\n",
            "Epoch: 56, Loss: 0.122617\n",
            "Epoch: 57, Loss: 0.027243\n",
            "Epoch: 58, Loss: 0.014112\n",
            "Epoch: 59, Loss: 0.102721\n",
            "Epoch: 60, Loss: 0.001151\n",
            "Epoch: 61, Loss: 1.768624\n",
            "Epoch: 62, Loss: 0.006325\n",
            "Epoch: 63, Loss: 0.401327\n",
            "Epoch: 64, Loss: 0.066029\n",
            "Epoch: 65, Loss: 0.012007\n",
            "Epoch: 66, Loss: 0.440437\n",
            "Epoch: 67, Loss: 0.000295\n",
            "Epoch: 68, Loss: 0.000369\n",
            "Epoch: 69, Loss: 0.000338\n",
            "Epoch: 70, Loss: 0.000085\n",
            "Epoch: 71, Loss: 0.000204\n",
            "Epoch: 72, Loss: 0.006862\n",
            "Epoch: 73, Loss: 0.015435\n",
            "Epoch: 74, Loss: 0.069847\n",
            "Epoch: 75, Loss: 0.084179\n",
            "Epoch: 76, Loss: 0.038483\n",
            "Epoch: 77, Loss: 0.013760\n",
            "Epoch: 78, Loss: 0.088126\n",
            "Epoch: 79, Loss: 0.004033\n",
            "Epoch: 80, Loss: 0.200027\n",
            "Epoch: 81, Loss: 0.000040\n",
            "Epoch: 82, Loss: 0.050120\n",
            "Epoch: 83, Loss: 1.956828\n",
            "Epoch: 84, Loss: 0.116613\n",
            "Epoch: 85, Loss: 0.014126\n",
            "Epoch: 86, Loss: 0.003470\n",
            "Epoch: 87, Loss: 4.613537\n",
            "Epoch: 88, Loss: 0.223244\n",
            "Epoch: 89, Loss: 2.116379\n",
            "Epoch: 90, Loss: 10.363064\n",
            "Epoch: 91, Loss: 5.757066\n",
            "Epoch: 92, Loss: 0.696647\n",
            "Epoch: 93, Loss: 5.194084\n",
            "Epoch: 94, Loss: 0.019259\n",
            "Epoch: 95, Loss: 0.007389\n",
            "Epoch: 96, Loss: 0.000707\n",
            "Epoch: 97, Loss: 0.000086\n",
            "Epoch: 98, Loss: 0.059456\n",
            "Epoch: 99, Loss: 0.000423\n",
            "Epoch: 100, Loss: 0.125615\n",
            "Epoch: 101, Loss: 0.000040\n",
            "Epoch: 102, Loss: 0.000001\n",
            "Epoch: 103, Loss: 0.003337\n",
            "Epoch: 104, Loss: 0.001113\n",
            "Epoch: 105, Loss: 0.006169\n",
            "Epoch: 106, Loss: 0.000006\n",
            "Epoch: 107, Loss: 0.577149\n",
            "Epoch: 108, Loss: 3.024194\n",
            "Epoch: 109, Loss: 0.083257\n",
            "Epoch: 110, Loss: 4.949977\n",
            "Epoch: 111, Loss: 0.809235\n",
            "Epoch: 112, Loss: 0.004962\n",
            "Epoch: 113, Loss: 1.055955\n",
            "Epoch: 114, Loss: 0.007629\n",
            "Epoch: 115, Loss: 0.000000\n",
            "Epoch: 116, Loss: 0.106743\n",
            "Epoch: 117, Loss: 0.963229\n",
            "Epoch: 118, Loss: 0.011392\n",
            "Epoch: 119, Loss: 1.343791\n",
            "Epoch: 120, Loss: 0.385341\n",
            "Epoch: 121, Loss: 0.001019\n",
            "Epoch: 122, Loss: 9.580870\n",
            "Epoch: 123, Loss: 8.175509\n",
            "Epoch: 124, Loss: 0.004279\n",
            "Epoch: 125, Loss: 0.000108\n",
            "Epoch: 126, Loss: 0.093433\n",
            "Epoch: 127, Loss: 0.000367\n",
            "Epoch: 128, Loss: 0.715134\n",
            "Epoch: 129, Loss: 0.007016\n",
            "Epoch: 130, Loss: 0.033553\n",
            "Epoch: 131, Loss: 0.037363\n",
            "Epoch: 132, Loss: 0.039139\n",
            "Epoch: 133, Loss: 0.892485\n",
            "Epoch: 134, Loss: 0.071886\n",
            "Epoch: 135, Loss: 0.021030\n",
            "Epoch: 136, Loss: 0.000069\n",
            "Epoch: 137, Loss: 0.248910\n",
            "Epoch: 138, Loss: 0.000006\n",
            "Epoch: 139, Loss: 0.000113\n",
            "Epoch: 140, Loss: 1.312945\n",
            "Epoch: 141, Loss: 2.031568\n",
            "Epoch: 142, Loss: 0.000529\n",
            "Epoch: 143, Loss: 0.176649\n",
            "Epoch: 144, Loss: 0.006726\n",
            "Epoch: 145, Loss: 0.035461\n",
            "Epoch: 146, Loss: 7.386221\n",
            "Epoch: 147, Loss: 0.000163\n",
            "Epoch: 148, Loss: 5.311876\n",
            "Epoch: 149, Loss: 0.001314\n",
            "Epoch: 150, Loss: 0.000378\n",
            "Epoch: 151, Loss: 0.000161\n",
            "Epoch: 152, Loss: 0.004496\n",
            "Epoch: 153, Loss: 0.000000\n",
            "Epoch: 154, Loss: 0.018826\n",
            "Epoch: 155, Loss: 0.000005\n",
            "Epoch: 156, Loss: 0.033637\n",
            "Epoch: 157, Loss: 0.000000\n",
            "Epoch: 158, Loss: 1.437105\n",
            "Epoch: 159, Loss: 3.187489\n",
            "Epoch: 160, Loss: 0.014092\n",
            "Epoch: 161, Loss: 1.337283\n",
            "Epoch: 162, Loss: 0.000376\n",
            "Epoch: 163, Loss: 0.000008\n",
            "Epoch: 164, Loss: 0.308014\n",
            "Epoch: 165, Loss: 0.233471\n",
            "Epoch: 166, Loss: 0.027558\n",
            "Epoch: 167, Loss: 0.070707\n",
            "Epoch: 168, Loss: 0.053727\n",
            "Epoch: 169, Loss: 2.905807\n",
            "Epoch: 170, Loss: 0.009688\n",
            "Epoch: 171, Loss: 0.047221\n",
            "Epoch: 172, Loss: 11.545544\n",
            "Epoch: 173, Loss: 0.503984\n",
            "Epoch: 174, Loss: 1.549686\n",
            "Epoch: 175, Loss: 0.000029\n",
            "Epoch: 176, Loss: 0.016935\n",
            "Epoch: 177, Loss: 0.002455\n",
            "Epoch: 178, Loss: 0.101213\n",
            "Epoch: 179, Loss: 0.012866\n",
            "Epoch: 180, Loss: 0.209301\n",
            "Epoch: 181, Loss: 0.007298\n",
            "Epoch: 182, Loss: 0.000001\n",
            "Epoch: 183, Loss: 0.000439\n",
            "Epoch: 184, Loss: 0.000021\n",
            "Epoch: 185, Loss: 0.258969\n",
            "Epoch: 186, Loss: 0.010699\n",
            "Epoch: 187, Loss: 0.246135\n",
            "Epoch: 188, Loss: 5.451307\n",
            "Epoch: 189, Loss: 0.004793\n",
            "Epoch: 190, Loss: 0.000040\n",
            "Epoch: 191, Loss: 4.266025\n",
            "Epoch: 192, Loss: 1.038585\n",
            "Epoch: 193, Loss: 0.000161\n",
            "Epoch: 194, Loss: 0.011205\n",
            "Epoch: 195, Loss: 0.003404\n",
            "Epoch: 196, Loss: 1.894515\n",
            "Epoch: 197, Loss: 0.531305\n",
            "Epoch: 198, Loss: 0.009262\n",
            "Epoch: 199, Loss: 0.553655\n"
          ],
          "name": "stdout"
        }
      ]
    },
    {
      "cell_type": "code",
      "metadata": {
        "id": "glHt3J4Pbz57"
      },
      "source": [
        "train_loader = torch.utils.data.DataLoader(cifar2, batch_size=64,\n",
        "                                           shuffle=True)"
      ],
      "execution_count": 134,
      "outputs": []
    },
    {
      "cell_type": "code",
      "metadata": {
        "id": "Woi-Y-RIbz57",
        "colab": {
          "base_uri": "https://localhost:8080/"
        },
        "outputId": "eefa9d40-a867-4710-f75e-40c4907a0106"
      },
      "source": [
        "import torch\n",
        "import torch.nn as nn\n",
        "import torch.optim as optim\n",
        "\n",
        "train_loader = torch.utils.data.DataLoader(cifar2, batch_size=64,\n",
        "                                           shuffle=True)\n",
        "\n",
        "model = nn.Sequential(\n",
        "            nn.Linear(3072, 128),\n",
        "            nn.Tanh(),\n",
        "            nn.Linear(128, 4),\n",
        "            nn.LogSoftmax(dim=1))\n",
        "\n",
        "learning_rate = 1e-2\n",
        "\n",
        "optimizer = optim.SGD(model.parameters(), lr=learning_rate)\n",
        "\n",
        "loss_fn = nn.NLLLoss()\n",
        "\n",
        "n_epochs = 100\n",
        "\n",
        "for epoch in range(n_epochs):\n",
        "    for imgs, labels in train_loader:\n",
        "        outputs = model(imgs.view(imgs.shape[0], -1))\n",
        "        loss = loss_fn(outputs, labels)\n",
        "\n",
        "        optimizer.zero_grad()\n",
        "        loss.backward()\n",
        "        optimizer.step()\n",
        "\n",
        "    print(\"Epoch: %d, Loss: %f\" % (epoch, float(loss)))"
      ],
      "execution_count": 136,
      "outputs": [
        {
          "output_type": "stream",
          "text": [
            "Epoch: 0, Loss: 0.800804\n",
            "Epoch: 1, Loss: 0.856000\n",
            "Epoch: 2, Loss: 0.775105\n",
            "Epoch: 3, Loss: 0.639049\n",
            "Epoch: 4, Loss: 0.550646\n",
            "Epoch: 5, Loss: 0.747865\n",
            "Epoch: 6, Loss: 0.703336\n",
            "Epoch: 7, Loss: 0.659088\n",
            "Epoch: 8, Loss: 0.515026\n",
            "Epoch: 9, Loss: 0.542203\n",
            "Epoch: 10, Loss: 0.638468\n",
            "Epoch: 11, Loss: 0.370957\n",
            "Epoch: 12, Loss: 0.672513\n",
            "Epoch: 13, Loss: 0.517061\n",
            "Epoch: 14, Loss: 0.292179\n",
            "Epoch: 15, Loss: 0.609935\n",
            "Epoch: 16, Loss: 0.404802\n",
            "Epoch: 17, Loss: 0.448982\n",
            "Epoch: 18, Loss: 0.379581\n",
            "Epoch: 19, Loss: 0.538069\n",
            "Epoch: 20, Loss: 0.419613\n",
            "Epoch: 21, Loss: 0.339441\n",
            "Epoch: 22, Loss: 0.459961\n",
            "Epoch: 23, Loss: 0.376938\n",
            "Epoch: 24, Loss: 0.218609\n",
            "Epoch: 25, Loss: 0.263424\n",
            "Epoch: 26, Loss: 0.216534\n",
            "Epoch: 27, Loss: 0.372097\n",
            "Epoch: 28, Loss: 0.183431\n",
            "Epoch: 29, Loss: 0.267024\n",
            "Epoch: 30, Loss: 0.451038\n",
            "Epoch: 31, Loss: 0.285872\n",
            "Epoch: 32, Loss: 0.216968\n",
            "Epoch: 33, Loss: 0.257815\n",
            "Epoch: 34, Loss: 0.303613\n",
            "Epoch: 35, Loss: 0.248103\n",
            "Epoch: 36, Loss: 0.256091\n",
            "Epoch: 37, Loss: 0.177172\n",
            "Epoch: 38, Loss: 0.164611\n",
            "Epoch: 39, Loss: 0.125578\n",
            "Epoch: 40, Loss: 0.152567\n",
            "Epoch: 41, Loss: 0.078643\n",
            "Epoch: 42, Loss: 0.259571\n",
            "Epoch: 43, Loss: 0.160195\n",
            "Epoch: 44, Loss: 0.054821\n",
            "Epoch: 45, Loss: 0.213482\n",
            "Epoch: 46, Loss: 0.067716\n",
            "Epoch: 47, Loss: 0.129541\n",
            "Epoch: 48, Loss: 0.168807\n",
            "Epoch: 49, Loss: 0.111224\n",
            "Epoch: 50, Loss: 0.123311\n",
            "Epoch: 51, Loss: 0.117532\n",
            "Epoch: 52, Loss: 0.131940\n",
            "Epoch: 53, Loss: 0.103416\n",
            "Epoch: 54, Loss: 0.127677\n",
            "Epoch: 55, Loss: 0.118420\n",
            "Epoch: 56, Loss: 0.053174\n",
            "Epoch: 57, Loss: 0.085596\n",
            "Epoch: 58, Loss: 0.066060\n",
            "Epoch: 59, Loss: 0.061596\n",
            "Epoch: 60, Loss: 0.058697\n",
            "Epoch: 61, Loss: 0.053170\n",
            "Epoch: 62, Loss: 0.099135\n",
            "Epoch: 63, Loss: 0.046858\n",
            "Epoch: 64, Loss: 0.076001\n",
            "Epoch: 65, Loss: 0.062807\n",
            "Epoch: 66, Loss: 0.048710\n",
            "Epoch: 67, Loss: 0.050337\n",
            "Epoch: 68, Loss: 0.045110\n",
            "Epoch: 69, Loss: 0.051255\n",
            "Epoch: 70, Loss: 0.043891\n",
            "Epoch: 71, Loss: 0.057121\n",
            "Epoch: 72, Loss: 0.061544\n",
            "Epoch: 73, Loss: 0.040923\n",
            "Epoch: 74, Loss: 0.046634\n",
            "Epoch: 75, Loss: 0.032296\n",
            "Epoch: 76, Loss: 0.047070\n",
            "Epoch: 77, Loss: 0.051432\n",
            "Epoch: 78, Loss: 0.039428\n",
            "Epoch: 79, Loss: 0.020561\n",
            "Epoch: 80, Loss: 0.029988\n",
            "Epoch: 81, Loss: 0.020493\n",
            "Epoch: 82, Loss: 0.047488\n",
            "Epoch: 83, Loss: 0.022601\n",
            "Epoch: 84, Loss: 0.028890\n",
            "Epoch: 85, Loss: 0.036760\n",
            "Epoch: 86, Loss: 0.013185\n",
            "Epoch: 87, Loss: 0.041821\n",
            "Epoch: 88, Loss: 0.022209\n",
            "Epoch: 89, Loss: 0.016818\n",
            "Epoch: 90, Loss: 0.008479\n",
            "Epoch: 91, Loss: 0.029866\n",
            "Epoch: 92, Loss: 0.017917\n",
            "Epoch: 93, Loss: 0.018106\n",
            "Epoch: 94, Loss: 0.016140\n",
            "Epoch: 95, Loss: 0.033069\n",
            "Epoch: 96, Loss: 0.034777\n",
            "Epoch: 97, Loss: 0.029912\n",
            "Epoch: 98, Loss: 0.027795\n",
            "Epoch: 99, Loss: 0.036375\n"
          ],
          "name": "stdout"
        }
      ]
    },
    {
      "cell_type": "code",
      "metadata": {
        "id": "Va5DV_ztbz58",
        "colab": {
          "base_uri": "https://localhost:8080/"
        },
        "outputId": "e34ddea6-6e29-481e-c5db-98c0070a9d5d"
      },
      "source": [
        "import torch\n",
        "import torch.nn as nn\n",
        "import torch.optim as optim\n",
        "\n",
        "train_loader = torch.utils.data.DataLoader(cifar2, batch_size=64,\n",
        "                                           shuffle=True)\n",
        "\n",
        "model = nn.Sequential(\n",
        "            nn.Linear(3072, 512),\n",
        "            nn.Tanh(),\n",
        "            nn.Linear(512, 4),\n",
        "            nn.LogSoftmax(dim=1))\n",
        "\n",
        "learning_rate = 1e-2\n",
        "\n",
        "optimizer = optim.SGD(model.parameters(), lr=learning_rate)\n",
        "\n",
        "loss_fn = nn.NLLLoss()\n",
        "\n",
        "n_epochs = 100\n",
        "\n",
        "for epoch in range(n_epochs):\n",
        "    for imgs, labels in train_loader:\n",
        "        outputs = model(imgs.view(imgs.shape[0], -1))\n",
        "        loss = loss_fn(outputs, labels)\n",
        "\n",
        "        optimizer.zero_grad()\n",
        "        loss.backward()\n",
        "        optimizer.step()\n",
        "\n",
        "    print(\"Epoch: %d, Loss: %f\" % (epoch, float(loss)))"
      ],
      "execution_count": 137,
      "outputs": [
        {
          "output_type": "stream",
          "text": [
            "Epoch: 0, Loss: 0.783961\n",
            "Epoch: 1, Loss: 0.770131\n",
            "Epoch: 2, Loss: 0.737247\n",
            "Epoch: 3, Loss: 0.513809\n",
            "Epoch: 4, Loss: 0.837298\n",
            "Epoch: 5, Loss: 0.752566\n",
            "Epoch: 6, Loss: 0.862524\n",
            "Epoch: 7, Loss: 0.466099\n",
            "Epoch: 8, Loss: 0.519560\n",
            "Epoch: 9, Loss: 0.850985\n",
            "Epoch: 10, Loss: 0.267895\n",
            "Epoch: 11, Loss: 0.557195\n",
            "Epoch: 12, Loss: 0.500747\n",
            "Epoch: 13, Loss: 0.282278\n",
            "Epoch: 14, Loss: 0.322870\n",
            "Epoch: 15, Loss: 0.549167\n",
            "Epoch: 16, Loss: 0.753367\n",
            "Epoch: 17, Loss: 0.280212\n",
            "Epoch: 18, Loss: 0.551698\n",
            "Epoch: 19, Loss: 0.178653\n",
            "Epoch: 20, Loss: 0.545549\n",
            "Epoch: 21, Loss: 0.201131\n",
            "Epoch: 22, Loss: 0.430533\n",
            "Epoch: 23, Loss: 0.318644\n",
            "Epoch: 24, Loss: 0.586033\n",
            "Epoch: 25, Loss: 0.259173\n",
            "Epoch: 26, Loss: 0.199506\n",
            "Epoch: 27, Loss: 0.215389\n",
            "Epoch: 28, Loss: 0.157956\n",
            "Epoch: 29, Loss: 0.259703\n",
            "Epoch: 30, Loss: 0.274387\n",
            "Epoch: 31, Loss: 0.113204\n",
            "Epoch: 32, Loss: 0.192550\n",
            "Epoch: 33, Loss: 0.194080\n",
            "Epoch: 34, Loss: 0.086254\n",
            "Epoch: 35, Loss: 0.132396\n",
            "Epoch: 36, Loss: 0.121307\n",
            "Epoch: 37, Loss: 0.108095\n",
            "Epoch: 38, Loss: 0.159235\n",
            "Epoch: 39, Loss: 0.166683\n",
            "Epoch: 40, Loss: 0.075045\n",
            "Epoch: 41, Loss: 0.053931\n",
            "Epoch: 42, Loss: 0.115508\n",
            "Epoch: 43, Loss: 0.063471\n",
            "Epoch: 44, Loss: 0.054666\n",
            "Epoch: 45, Loss: 0.042647\n",
            "Epoch: 46, Loss: 0.048777\n",
            "Epoch: 47, Loss: 0.043451\n",
            "Epoch: 48, Loss: 0.062266\n",
            "Epoch: 49, Loss: 0.056297\n",
            "Epoch: 50, Loss: 0.060478\n",
            "Epoch: 51, Loss: 0.046721\n",
            "Epoch: 52, Loss: 0.025663\n",
            "Epoch: 53, Loss: 0.051960\n",
            "Epoch: 54, Loss: 0.068707\n",
            "Epoch: 55, Loss: 0.024163\n",
            "Epoch: 56, Loss: 0.025887\n",
            "Epoch: 57, Loss: 0.027396\n",
            "Epoch: 58, Loss: 0.048770\n",
            "Epoch: 59, Loss: 0.041890\n",
            "Epoch: 60, Loss: 0.036300\n",
            "Epoch: 61, Loss: 0.041609\n",
            "Epoch: 62, Loss: 0.099911\n",
            "Epoch: 63, Loss: 0.057158\n",
            "Epoch: 64, Loss: 0.031406\n",
            "Epoch: 65, Loss: 0.022508\n",
            "Epoch: 66, Loss: 0.021808\n",
            "Epoch: 67, Loss: 0.020367\n",
            "Epoch: 68, Loss: 0.028959\n",
            "Epoch: 69, Loss: 0.040049\n",
            "Epoch: 70, Loss: 0.018118\n",
            "Epoch: 71, Loss: 0.040152\n",
            "Epoch: 72, Loss: 0.025487\n",
            "Epoch: 73, Loss: 0.007839\n",
            "Epoch: 74, Loss: 0.022591\n",
            "Epoch: 75, Loss: 0.022527\n",
            "Epoch: 76, Loss: 0.022560\n",
            "Epoch: 77, Loss: 0.019161\n",
            "Epoch: 78, Loss: 0.017014\n",
            "Epoch: 79, Loss: 0.044898\n",
            "Epoch: 80, Loss: 0.017248\n",
            "Epoch: 81, Loss: 0.017531\n",
            "Epoch: 82, Loss: 0.014735\n",
            "Epoch: 83, Loss: 0.013182\n",
            "Epoch: 84, Loss: 0.025975\n",
            "Epoch: 85, Loss: 0.013921\n",
            "Epoch: 86, Loss: 0.016309\n",
            "Epoch: 87, Loss: 0.028569\n",
            "Epoch: 88, Loss: 0.014314\n",
            "Epoch: 89, Loss: 0.023906\n",
            "Epoch: 90, Loss: 0.011923\n",
            "Epoch: 91, Loss: 0.019531\n",
            "Epoch: 92, Loss: 0.010055\n",
            "Epoch: 93, Loss: 0.012630\n",
            "Epoch: 94, Loss: 0.009799\n",
            "Epoch: 95, Loss: 0.014735\n",
            "Epoch: 96, Loss: 0.011442\n",
            "Epoch: 97, Loss: 0.012027\n",
            "Epoch: 98, Loss: 0.022207\n",
            "Epoch: 99, Loss: 0.010411\n"
          ],
          "name": "stdout"
        }
      ]
    },
    {
      "cell_type": "code",
      "metadata": {
        "id": "C9xRLaX0bz58",
        "colab": {
          "base_uri": "https://localhost:8080/"
        },
        "outputId": "fa935c9b-4419-44fa-d35a-3bb318ccbbad"
      },
      "source": [
        "train_loader = torch.utils.data.DataLoader(cifar2, batch_size=64,\n",
        "                                           shuffle=False)\n",
        "\n",
        "correct = 0\n",
        "total = 0\n",
        "\n",
        "with torch.no_grad():\n",
        "    for imgs, labels in train_loader:\n",
        "        outputs = model(imgs.view(imgs.shape[0], -1))\n",
        "        _, predicted = torch.max(outputs, dim=1)\n",
        "        total += labels.shape[0]\n",
        "        correct += int((predicted == labels).sum())\n",
        "        \n",
        "print(\"Accuracy: %f\" % (correct / total))"
      ],
      "execution_count": 139,
      "outputs": [
        {
          "output_type": "stream",
          "text": [
            "Accuracy: 0.999950\n"
          ],
          "name": "stdout"
        }
      ]
    },
    {
      "cell_type": "code",
      "metadata": {
        "id": "gBR7uB7Xbz58",
        "colab": {
          "base_uri": "https://localhost:8080/"
        },
        "outputId": "3b7d49f0-8e17-4bca-b832-35fb89e38d38"
      },
      "source": [
        "val_loader = torch.utils.data.DataLoader(cifar2_val, batch_size=64,\n",
        "                                         shuffle=False)\n",
        "\n",
        "correct = 0\n",
        "total = 0\n",
        "\n",
        "with torch.no_grad():\n",
        "    for imgs, labels in val_loader:\n",
        "        outputs = model(imgs.view(imgs.shape[0], -1))\n",
        "        _, predicted = torch.max(outputs, dim=1)\n",
        "        total += labels.shape[0]\n",
        "        correct += int((predicted == labels).sum())\n",
        "        \n",
        "print(\"Accuracy: %f\" % (correct / total))"
      ],
      "execution_count": 173,
      "outputs": [
        {
          "output_type": "stream",
          "text": [
            "Accuracy: 0.765750\n"
          ],
          "name": "stdout"
        }
      ]
    },
    {
      "cell_type": "code",
      "metadata": {
        "id": "QsEEKkd-bz59"
      },
      "source": [
        "model = nn.Sequential(\n",
        "            nn.Linear(3072, 1024),\n",
        "            nn.Tanh(),\n",
        "            nn.Linear(1024, 512),\n",
        "            nn.Tanh(),\n",
        "            nn.Linear(512, 128),\n",
        "            nn.Tanh(),\n",
        "            nn.Linear(128, 2),\n",
        "            nn.LogSoftmax(dim=1))"
      ],
      "execution_count": 145,
      "outputs": []
    },
    {
      "cell_type": "code",
      "metadata": {
        "id": "oX7QIFghbz59"
      },
      "source": [
        "model = nn.Sequential(\n",
        "            nn.Linear(3072, 1024),\n",
        "            nn.Tanh(),\n",
        "            nn.Linear(1024, 512),\n",
        "            nn.Tanh(),\n",
        "            nn.Linear(512, 128),\n",
        "            nn.Tanh(),\n",
        "            nn.Linear(128, 2))\n",
        "\n",
        "loss_fn = nn.CrossEntropyLoss()"
      ],
      "execution_count": 146,
      "outputs": []
    },
    {
      "cell_type": "code",
      "metadata": {
        "id": "DA6P3bwcbz59",
        "colab": {
          "base_uri": "https://localhost:8080/"
        },
        "outputId": "ad5e7091-6fc8-4b74-d89f-a83b9e6df650"
      },
      "source": [
        "import torch\n",
        "import torch.nn as nn\n",
        "import torch.optim as optim\n",
        "\n",
        "train_loader = torch.utils.data.DataLoader(cifar2, batch_size=64,\n",
        "                                           shuffle=True)\n",
        "\n",
        "model = nn.Sequential(\n",
        "            nn.Linear(3072, 1024),\n",
        "            nn.Tanh(),\n",
        "            nn.Linear(1024, 512),\n",
        "            nn.Tanh(),\n",
        "            nn.Linear(512, 128),\n",
        "            nn.Tanh(),\n",
        "            nn.Linear(128, 4))\n",
        "\n",
        "learning_rate = 1e-2\n",
        "\n",
        "optimizer = optim.SGD(model.parameters(), lr=learning_rate)\n",
        "\n",
        "loss_fn = nn.CrossEntropyLoss()\n",
        "\n",
        "n_epochs = 100\n",
        "\n",
        "for epoch in range(n_epochs):\n",
        "    for imgs, labels in train_loader:\n",
        "        outputs = model(imgs.view(imgs.shape[0], -1))\n",
        "        loss = loss_fn(outputs, labels)\n",
        "\n",
        "        optimizer.zero_grad()\n",
        "        loss.backward()\n",
        "        optimizer.step()\n",
        "\n",
        "    print(\"Epoch: %d, Loss: %f\" % (epoch, float(loss)))"
      ],
      "execution_count": 147,
      "outputs": [
        {
          "output_type": "stream",
          "text": [
            "Epoch: 0, Loss: 0.709206\n",
            "Epoch: 1, Loss: 0.912435\n",
            "Epoch: 2, Loss: 0.738200\n",
            "Epoch: 3, Loss: 0.673513\n",
            "Epoch: 4, Loss: 0.819449\n",
            "Epoch: 5, Loss: 0.685899\n",
            "Epoch: 6, Loss: 0.686769\n",
            "Epoch: 7, Loss: 0.673209\n",
            "Epoch: 8, Loss: 0.642436\n",
            "Epoch: 9, Loss: 0.290140\n",
            "Epoch: 10, Loss: 0.529390\n",
            "Epoch: 11, Loss: 0.790801\n",
            "Epoch: 12, Loss: 0.416622\n",
            "Epoch: 13, Loss: 0.397321\n",
            "Epoch: 14, Loss: 0.483399\n",
            "Epoch: 15, Loss: 0.366630\n",
            "Epoch: 16, Loss: 0.328742\n",
            "Epoch: 17, Loss: 0.399762\n",
            "Epoch: 18, Loss: 0.332418\n",
            "Epoch: 19, Loss: 0.271088\n",
            "Epoch: 20, Loss: 0.180062\n",
            "Epoch: 21, Loss: 0.250869\n",
            "Epoch: 22, Loss: 0.096655\n",
            "Epoch: 23, Loss: 0.169511\n",
            "Epoch: 24, Loss: 0.313647\n",
            "Epoch: 25, Loss: 0.184826\n",
            "Epoch: 26, Loss: 0.265405\n",
            "Epoch: 27, Loss: 0.271133\n",
            "Epoch: 28, Loss: 0.127342\n",
            "Epoch: 29, Loss: 0.112625\n",
            "Epoch: 30, Loss: 0.059669\n",
            "Epoch: 31, Loss: 0.163593\n",
            "Epoch: 32, Loss: 0.052240\n",
            "Epoch: 33, Loss: 0.122262\n",
            "Epoch: 34, Loss: 0.033578\n",
            "Epoch: 35, Loss: 0.037476\n",
            "Epoch: 36, Loss: 0.037849\n",
            "Epoch: 37, Loss: 0.184902\n",
            "Epoch: 38, Loss: 0.030080\n",
            "Epoch: 39, Loss: 0.011036\n",
            "Epoch: 40, Loss: 0.006010\n",
            "Epoch: 41, Loss: 0.002673\n",
            "Epoch: 42, Loss: 0.008752\n",
            "Epoch: 43, Loss: 0.005853\n",
            "Epoch: 44, Loss: 0.009874\n",
            "Epoch: 45, Loss: 0.002831\n",
            "Epoch: 46, Loss: 0.004077\n",
            "Epoch: 47, Loss: 0.004316\n",
            "Epoch: 48, Loss: 0.004694\n",
            "Epoch: 49, Loss: 0.004021\n",
            "Epoch: 50, Loss: 0.001626\n",
            "Epoch: 51, Loss: 0.002540\n",
            "Epoch: 52, Loss: 0.004172\n",
            "Epoch: 53, Loss: 0.001917\n",
            "Epoch: 54, Loss: 0.004182\n",
            "Epoch: 55, Loss: 0.001770\n",
            "Epoch: 56, Loss: 0.001823\n",
            "Epoch: 57, Loss: 0.001572\n",
            "Epoch: 58, Loss: 0.002309\n",
            "Epoch: 59, Loss: 0.024303\n",
            "Epoch: 60, Loss: 0.003088\n",
            "Epoch: 61, Loss: 0.001446\n",
            "Epoch: 62, Loss: 0.001581\n",
            "Epoch: 63, Loss: 0.001029\n",
            "Epoch: 64, Loss: 0.001397\n",
            "Epoch: 65, Loss: 0.000904\n",
            "Epoch: 66, Loss: 0.001176\n",
            "Epoch: 67, Loss: 0.001414\n",
            "Epoch: 68, Loss: 0.002107\n",
            "Epoch: 69, Loss: 0.001535\n",
            "Epoch: 70, Loss: 0.001336\n",
            "Epoch: 71, Loss: 0.000818\n",
            "Epoch: 72, Loss: 0.000894\n",
            "Epoch: 73, Loss: 0.001343\n",
            "Epoch: 74, Loss: 0.001281\n",
            "Epoch: 75, Loss: 0.001589\n",
            "Epoch: 76, Loss: 0.000962\n",
            "Epoch: 77, Loss: 0.001153\n",
            "Epoch: 78, Loss: 0.000593\n",
            "Epoch: 79, Loss: 0.000513\n",
            "Epoch: 80, Loss: 0.000528\n",
            "Epoch: 81, Loss: 0.001089\n",
            "Epoch: 82, Loss: 0.001136\n",
            "Epoch: 83, Loss: 0.000881\n",
            "Epoch: 84, Loss: 0.000935\n",
            "Epoch: 85, Loss: 0.000602\n",
            "Epoch: 86, Loss: 0.000381\n",
            "Epoch: 87, Loss: 0.000609\n",
            "Epoch: 88, Loss: 0.000597\n",
            "Epoch: 89, Loss: 0.000603\n",
            "Epoch: 90, Loss: 0.000497\n",
            "Epoch: 91, Loss: 0.000856\n",
            "Epoch: 92, Loss: 0.000660\n",
            "Epoch: 93, Loss: 0.001211\n",
            "Epoch: 94, Loss: 0.001038\n",
            "Epoch: 95, Loss: 0.000632\n",
            "Epoch: 96, Loss: 0.000495\n",
            "Epoch: 97, Loss: 0.000697\n",
            "Epoch: 98, Loss: 0.000592\n",
            "Epoch: 99, Loss: 0.000369\n"
          ],
          "name": "stdout"
        }
      ]
    },
    {
      "cell_type": "code",
      "metadata": {
        "id": "5ILJb2XGbz5-",
        "colab": {
          "base_uri": "https://localhost:8080/"
        },
        "outputId": "04511c2b-78a1-4b8a-c072-9076c708cac4"
      },
      "source": [
        "train_loader = torch.utils.data.DataLoader(cifar2, batch_size=64,\n",
        "                                           shuffle=False)\n",
        "\n",
        "correct = 0\n",
        "total = 0\n",
        "\n",
        "with torch.no_grad():\n",
        "    for imgs, labels in train_loader:\n",
        "        outputs = model(imgs.view(imgs.shape[0], -1))\n",
        "        _, predicted = torch.max(outputs, dim=1)\n",
        "        total += labels.shape[0]\n",
        "        correct += int((predicted == labels).sum())\n",
        "        \n",
        "print(\"Accuracy: %f\" % (correct / total))"
      ],
      "execution_count": 148,
      "outputs": [
        {
          "output_type": "stream",
          "text": [
            "Accuracy: 1.000000\n"
          ],
          "name": "stdout"
        }
      ]
    },
    {
      "cell_type": "code",
      "metadata": {
        "id": "lU00XLW9bz5-",
        "colab": {
          "base_uri": "https://localhost:8080/"
        },
        "outputId": "f3f841d6-5eae-49db-bbf6-9377071e3f6e"
      },
      "source": [
        "val_loader = torch.utils.data.DataLoader(cifar2_val, batch_size=64,\n",
        "                                         shuffle=False)\n",
        "\n",
        "correct = 0\n",
        "total = 0\n",
        "\n",
        "with torch.no_grad():\n",
        "    for imgs, labels in val_loader:\n",
        "        outputs = model(imgs.view(imgs.shape[0], -1))\n",
        "        _, predicted = torch.max(outputs, dim=1)\n",
        "        total += labels.shape[0]\n",
        "        correct += int((predicted == labels).sum())\n",
        "        \n",
        "print(\"Accuracy: %f\" % (correct / total))"
      ],
      "execution_count": 149,
      "outputs": [
        {
          "output_type": "stream",
          "text": [
            "Accuracy: 0.765750\n"
          ],
          "name": "stdout"
        }
      ]
    },
    {
      "cell_type": "code",
      "metadata": {
        "id": "bAwiwIgVbz5-",
        "colab": {
          "base_uri": "https://localhost:8080/"
        },
        "outputId": "2462eeea-4fbf-49cf-cb70-b4c69fef2014"
      },
      "source": [
        "sum([p.numel() for p in model.parameters()])"
      ],
      "execution_count": 150,
      "outputs": [
        {
          "output_type": "execute_result",
          "data": {
            "text/plain": [
              "3737732"
            ]
          },
          "metadata": {
            "tags": []
          },
          "execution_count": 150
        }
      ]
    },
    {
      "cell_type": "code",
      "metadata": {
        "id": "GsR5t1uUbz5-",
        "colab": {
          "base_uri": "https://localhost:8080/"
        },
        "outputId": "d794d734-c554-435f-9a1c-e0aaa6b05333"
      },
      "source": [
        "sum([p.numel() for p in model.parameters() if p.requires_grad == True])"
      ],
      "execution_count": 151,
      "outputs": [
        {
          "output_type": "execute_result",
          "data": {
            "text/plain": [
              "3737732"
            ]
          },
          "metadata": {
            "tags": []
          },
          "execution_count": 151
        }
      ]
    },
    {
      "cell_type": "code",
      "metadata": {
        "id": "6VeOL8kCbz5_",
        "colab": {
          "base_uri": "https://localhost:8080/"
        },
        "outputId": "454d765c-0992-48da-ffa9-298c94eecd31"
      },
      "source": [
        "first_model = nn.Sequential(\n",
        "                nn.Linear(3072, 512),\n",
        "                nn.Tanh(),\n",
        "                nn.Linear(512, 2),\n",
        "                nn.LogSoftmax(dim=1))\n",
        "\n",
        "sum([p.numel() for p in first_model.parameters()])"
      ],
      "execution_count": 152,
      "outputs": [
        {
          "output_type": "execute_result",
          "data": {
            "text/plain": [
              "1574402"
            ]
          },
          "metadata": {
            "tags": []
          },
          "execution_count": 152
        }
      ]
    },
    {
      "cell_type": "code",
      "metadata": {
        "id": "8L1whrHIbz5_",
        "colab": {
          "base_uri": "https://localhost:8080/"
        },
        "outputId": "47145a0e-24be-4402-acfe-8519520240fe"
      },
      "source": [
        "sum([p.numel() for p in nn.Linear(3072, 512).parameters()])"
      ],
      "execution_count": 153,
      "outputs": [
        {
          "output_type": "execute_result",
          "data": {
            "text/plain": [
              "1573376"
            ]
          },
          "metadata": {
            "tags": []
          },
          "execution_count": 153
        }
      ]
    },
    {
      "cell_type": "code",
      "metadata": {
        "id": "5CCPN5RKbz5_",
        "colab": {
          "base_uri": "https://localhost:8080/"
        },
        "outputId": "0c701e8f-6e6b-4628-d928-a699a9452474"
      },
      "source": [
        "sum([p.numel() for p in nn.Linear(3072, 1024).parameters()])"
      ],
      "execution_count": 154,
      "outputs": [
        {
          "output_type": "execute_result",
          "data": {
            "text/plain": [
              "3146752"
            ]
          },
          "metadata": {
            "tags": []
          },
          "execution_count": 154
        }
      ]
    },
    {
      "cell_type": "code",
      "metadata": {
        "id": "XrEEriJjbz6A",
        "colab": {
          "base_uri": "https://localhost:8080/"
        },
        "outputId": "fd746885-7065-451e-a4bc-e303e711ff8a"
      },
      "source": [
        "linear = nn.Linear(3072, 1024)\n",
        "\n",
        "linear.weight.shape, linear.bias.shape"
      ],
      "execution_count": 155,
      "outputs": [
        {
          "output_type": "execute_result",
          "data": {
            "text/plain": [
              "(torch.Size([1024, 3072]), torch.Size([1024]))"
            ]
          },
          "metadata": {
            "tags": []
          },
          "execution_count": 155
        }
      ]
    },
    {
      "cell_type": "code",
      "metadata": {
        "id": "HJreNrCWbz6A"
      },
      "source": [
        "conv = nn.Conv2d(3, 16, kernel_size=3)"
      ],
      "execution_count": 156,
      "outputs": []
    },
    {
      "cell_type": "code",
      "metadata": {
        "id": "uE0cSYQxbz6B",
        "colab": {
          "base_uri": "https://localhost:8080/"
        },
        "outputId": "a1faf521-3722-4a25-a43c-9c4286e1008f"
      },
      "source": [
        "conv.weight.shape"
      ],
      "execution_count": 157,
      "outputs": [
        {
          "output_type": "execute_result",
          "data": {
            "text/plain": [
              "torch.Size([16, 3, 3, 3])"
            ]
          },
          "metadata": {
            "tags": []
          },
          "execution_count": 157
        }
      ]
    },
    {
      "cell_type": "code",
      "metadata": {
        "id": "CfMXPZwhbz6B",
        "colab": {
          "base_uri": "https://localhost:8080/"
        },
        "outputId": "85218709-49fe-4268-ba0d-ab15d4fdf38f"
      },
      "source": [
        "conv.bias.shape"
      ],
      "execution_count": 158,
      "outputs": [
        {
          "output_type": "execute_result",
          "data": {
            "text/plain": [
              "torch.Size([16])"
            ]
          },
          "metadata": {
            "tags": []
          },
          "execution_count": 158
        }
      ]
    },
    {
      "cell_type": "code",
      "metadata": {
        "id": "uiS23_pWbz6B"
      },
      "source": [
        "img, _ = cifar2[0]\n",
        "\n",
        "output = conv(img.unsqueeze(0))"
      ],
      "execution_count": 159,
      "outputs": []
    },
    {
      "cell_type": "code",
      "metadata": {
        "id": "vBQgHeOGbz6C",
        "colab": {
          "base_uri": "https://localhost:8080/"
        },
        "outputId": "24328083-fbd1-49a6-e5ff-79535890252a"
      },
      "source": [
        "img.unsqueeze(0).shape, output.shape"
      ],
      "execution_count": 160,
      "outputs": [
        {
          "output_type": "execute_result",
          "data": {
            "text/plain": [
              "(torch.Size([1, 3, 32, 32]), torch.Size([1, 16, 30, 30]))"
            ]
          },
          "metadata": {
            "tags": []
          },
          "execution_count": 160
        }
      ]
    },
    {
      "cell_type": "code",
      "metadata": {
        "id": "D2TKLqsrbz6C",
        "colab": {
          "base_uri": "https://localhost:8080/",
          "height": 284
        },
        "outputId": "d81fa7a0-89f4-42c3-affc-4f5c32a08c61"
      },
      "source": [
        "plt.imshow(img.permute(1, 2, 0), cmap='gray')\n",
        "plt.show()"
      ],
      "execution_count": 161,
      "outputs": [
        {
          "output_type": "stream",
          "text": [
            "Clipping input data to the valid range for imshow with RGB data ([0..1] for floats or [0..255] for integers).\n"
          ],
          "name": "stderr"
        },
        {
          "output_type": "display_data",
          "data": {
            "image/png": "[encoded data removed]",
            "text/plain": [
              "<Figure size 432x288 with 1 Axes>"
            ]
          },
          "metadata": {
            "tags": [],
            "needs_background": "light"
          }
        }
      ]
    },
    {
      "cell_type": "code",
      "metadata": {
        "id": "IphpaYDabz6C",
        "colab": {
          "base_uri": "https://localhost:8080/",
          "height": 266
        },
        "outputId": "7342c020-1edf-4ad5-f79b-d19e611d6709"
      },
      "source": [
        "plt.imshow(output[0, 0].detach(), cmap='gray')\n",
        "plt.show()"
      ],
      "execution_count": 162,
      "outputs": [
        {
          "output_type": "display_data",
          "data": {
            "image/png": "[encoded data removed]",
            "text/plain": [
              "<Figure size 432x288 with 1 Axes>"
            ]
          },
          "metadata": {
            "tags": [],
            "needs_background": "light"
          }
        }
      ]
    },
    {
      "cell_type": "code",
      "metadata": {
        "id": "vRSdaaa4bz6C",
        "colab": {
          "base_uri": "https://localhost:8080/"
        },
        "outputId": "561cfa18-2b93-4962-c782-14b0d7b4351c"
      },
      "source": [
        "output.shape"
      ],
      "execution_count": 163,
      "outputs": [
        {
          "output_type": "execute_result",
          "data": {
            "text/plain": [
              "torch.Size([1, 16, 30, 30])"
            ]
          },
          "metadata": {
            "tags": []
          },
          "execution_count": 163
        }
      ]
    },
    {
      "cell_type": "code",
      "metadata": {
        "id": "UCEPa-Y_bz6C"
      },
      "source": [
        "conv = nn.Conv2d(3, 1, kernel_size=3, padding=1)"
      ],
      "execution_count": 164,
      "outputs": []
    },
    {
      "cell_type": "code",
      "metadata": {
        "id": "7b7j5Engbz6D",
        "colab": {
          "base_uri": "https://localhost:8080/"
        },
        "outputId": "80a6ddd7-5db7-46a0-8b1d-ba613b31df03"
      },
      "source": [
        "output = conv(img.unsqueeze(0))\n",
        "\n",
        "output.shape"
      ],
      "execution_count": 165,
      "outputs": [
        {
          "output_type": "execute_result",
          "data": {
            "text/plain": [
              "torch.Size([1, 1, 32, 32])"
            ]
          },
          "metadata": {
            "tags": []
          },
          "execution_count": 165
        }
      ]
    },
    {
      "cell_type": "code",
      "metadata": {
        "id": "mLpl7WECbz6E"
      },
      "source": [
        "with torch.no_grad():\n",
        "    conv.bias.zero_()"
      ],
      "execution_count": 166,
      "outputs": []
    },
    {
      "cell_type": "code",
      "metadata": {
        "id": "TkAcl8r9bz6E"
      },
      "source": [
        "with torch.no_grad():\n",
        "    conv.weight.fill_(1.0 / 9.0)"
      ],
      "execution_count": 167,
      "outputs": []
    },
    {
      "cell_type": "code",
      "metadata": {
        "id": "neqPDlIVbz6E",
        "colab": {
          "base_uri": "https://localhost:8080/",
          "height": 266
        },
        "outputId": "e77c8924-6f6a-4118-86cc-8ddcffd75624"
      },
      "source": [
        "output = conv(img.unsqueeze(0))\n",
        "plt.imshow(output[0, 0].detach(), cmap='gray')\n",
        "plt.show()"
      ],
      "execution_count": 168,
      "outputs": [
        {
          "output_type": "display_data",
          "data": {
            "image/png": "[encoded data removed]",
            "text/plain": [
              "<Figure size 432x288 with 1 Axes>"
            ]
          },
          "metadata": {
            "tags": [],
            "needs_background": "light"
          }
        }
      ]
    },
    {
      "cell_type": "code",
      "metadata": {
        "id": "Z3g0oU0fbz6E"
      },
      "source": [
        "conv = nn.Conv2d(3, 1, kernel_size=3, padding=1)\n",
        "\n",
        "with torch.no_grad():\n",
        "    conv.weight[:] = torch.tensor([[-1.0, 0.0, 1.0],\n",
        "                                   [-1.0, 0.0, 1.0],\n",
        "                                   [-1.0, 0.0, 1.0]])\n",
        "    conv.bias.zero_()"
      ],
      "execution_count": 169,
      "outputs": []
    },
    {
      "cell_type": "code",
      "metadata": {
        "id": "SZZikonmbz6E",
        "colab": {
          "base_uri": "https://localhost:8080/",
          "height": 266
        },
        "outputId": "d6c2289a-2380-434b-b341-03b95e26d5e9"
      },
      "source": [
        "output = conv(img.unsqueeze(0))\n",
        "plt.imshow(output[0, 0].detach(), cmap='gray')\n",
        "plt.show()"
      ],
      "execution_count": 170,
      "outputs": [
        {
          "output_type": "display_data",
          "data": {
            "image/png": "[encoded data removed]",
            "text/plain": [
              "<Figure size 432x288 with 1 Axes>"
            ]
          },
          "metadata": {
            "tags": [],
            "needs_background": "light"
          }
        }
      ]
    },
    {
      "cell_type": "code",
      "metadata": {
        "id": "PZg8nvPDbz6E"
      },
      "source": [
        "pool = nn.MaxPool2d(2)"
      ],
      "execution_count": 171,
      "outputs": []
    },
    {
      "cell_type": "code",
      "metadata": {
        "id": "hyy5DgMabz6E",
        "colab": {
          "base_uri": "https://localhost:8080/"
        },
        "outputId": "1423510e-4218-4f10-b323-2d516024a0bc"
      },
      "source": [
        "output = pool(img.unsqueeze(0))\n",
        "\n",
        "output.shape"
      ],
      "execution_count": 172,
      "outputs": [
        {
          "output_type": "execute_result",
          "data": {
            "text/plain": [
              "torch.Size([1, 3, 16, 16])"
            ]
          },
          "metadata": {
            "tags": []
          },
          "execution_count": 172
        }
      ]
    },
    {
      "cell_type": "code",
      "metadata": {
        "id": "QS0pRwwkbz6F"
      },
      "source": [
        ""
      ],
      "execution_count": 172,
      "outputs": []
    },
    {
      "cell_type": "code",
      "metadata": {
        "id": "r2R-HV1ubz6F"
      },
      "source": [
        ""
      ],
      "execution_count": 172,
      "outputs": []
    },
    {
      "cell_type": "code",
      "metadata": {
        "id": "Kpe1TK4Ebz6F"
      },
      "source": [
        ""
      ],
      "execution_count": 172,
      "outputs": []
    },
    {
      "cell_type": "code",
      "metadata": {
        "id": "GXR5W9pUbz6F"
      },
      "source": [
        ""
      ],
      "execution_count": 172,
      "outputs": []
    },
    {
      "cell_type": "code",
      "metadata": {
        "id": "iNMjlytrbz6G"
      },
      "source": [
        ""
      ],
      "execution_count": 172,
      "outputs": []
    },
    {
      "cell_type": "code",
      "metadata": {
        "id": "QTyHG1b-bz6G"
      },
      "source": [
        ""
      ],
      "execution_count": 172,
      "outputs": []
    },
    {
      "cell_type": "code",
      "metadata": {
        "id": "DO7dfl4Fbz6G"
      },
      "source": [
        ""
      ],
      "execution_count": 172,
      "outputs": []
    },
    {
      "cell_type": "code",
      "metadata": {
        "id": "lgLVaeu_bz6G"
      },
      "source": [
        ""
      ],
      "execution_count": 172,
      "outputs": []
    },
    {
      "cell_type": "code",
      "metadata": {
        "id": "TG136i09bz6H"
      },
      "source": [
        ""
      ],
      "execution_count": 172,
      "outputs": []
    },
    {
      "cell_type": "code",
      "metadata": {
        "id": "46pa4Ur8bz6H"
      },
      "source": [
        ""
      ],
      "execution_count": 172,
      "outputs": []
    },
    {
      "cell_type": "code",
      "metadata": {
        "id": "M4cCmiuHbz6H"
      },
      "source": [
        ""
      ],
      "execution_count": 172,
      "outputs": []
    },
    {
      "cell_type": "code",
      "metadata": {
        "id": "m8lavPK-bz6I"
      },
      "source": [
        ""
      ],
      "execution_count": 172,
      "outputs": []
    },
    {
      "cell_type": "code",
      "metadata": {
        "id": "RISzt_nYbz6I"
      },
      "source": [
        ""
      ],
      "execution_count": 172,
      "outputs": []
    }
  ]
}