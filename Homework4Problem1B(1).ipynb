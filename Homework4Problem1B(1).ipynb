{
 "cells": [
  {
   "cell_type": "code",
   "execution_count": 13,
   "metadata": {
    "colab": {
     "base_uri": "https://localhost:8080/"
    },
    "id": "ZXjxB8NUbz5j",
    "outputId": "1c5c6586-f600-4cb8-d601-0a26e3b34879"
   },
   "outputs": [
    {
     "data": {
      "text/plain": [
       "<torch._C.Generator at 0x7fb4726464f0>"
      ]
     },
     "execution_count": 13,
     "metadata": {},
     "output_type": "execute_result"
    }
   ],
   "source": [
    "%matplotlib inline\n",
    "from matplotlib import pyplot as plt\n",
    "import numpy as np\n",
    "import torch\n",
    "\n",
    "torch.set_printoptions(edgeitems=2)\n",
    "torch.manual_seed(123)"
   ]
  },
  {
   "cell_type": "code",
   "execution_count": 14,
   "metadata": {
    "id": "CU_-Pb91bz5q"
   },
   "outputs": [],
   "source": [
    "class_names = ['airplane','automobile','bird','cat','deer',\n",
    "               'dog','frog','horse','ship','truck']"
   ]
  },
  {
   "cell_type": "code",
   "execution_count": 15,
   "metadata": {
    "colab": {
     "base_uri": "https://localhost:8080/",
     "height": 104,
     "referenced_widgets": [
      "f3d56a6e700644028145c34765d1d50f",
      "c34ef7f6fe1448ffaac2faeffaaf101a",
      "ff01ac1f9c5d4619b92ab5af39cd3bed",
      "c00af6df41ab4715b97fdbafaaaa66b9",
      "95526096f6cf41319c822b60d787affb",
      "96413d85d7d1421eab28c6a139f1e67d",
      "a1d21ab03dd740ae8d573c69547983ce",
      "8d2b603c1fcb403c90ba2d2e7dff5111"
     ]
    },
    "id": "At_NMjzIbz5r",
    "outputId": "af91511c-5e2b-4ba0-a57a-6a7661e840b2"
   },
   "outputs": [
    {
     "name": "stdout",
     "output_type": "stream",
     "text": [
      "Files already downloaded and verified\n"
     ]
    }
   ],
   "source": [
    "from torchvision import datasets, transforms\n",
    "data_path = '../data-unversioned/p1ch7/'\n",
    "cifar10 = datasets.CIFAR10(\n",
    "    data_path, train=True, download=True,\n",
    "    transform=transforms.Compose([\n",
    "        transforms.ToTensor(),\n",
    "        transforms.Normalize((0.4915, 0.4823, 0.4468),\n",
    "                             (0.2470, 0.2435, 0.2616))\n",
    "    ]))"
   ]
  },
  {
   "cell_type": "code",
   "execution_count": 16,
   "metadata": {
    "colab": {
     "base_uri": "https://localhost:8080/"
    },
    "id": "cbD1d47Gbz5s",
    "outputId": "20adc19c-0c46-4644-d4ba-ba772e394e92"
   },
   "outputs": [
    {
     "name": "stdout",
     "output_type": "stream",
     "text": [
      "Files already downloaded and verified\n"
     ]
    }
   ],
   "source": [
    "cifar10_val = datasets.CIFAR10(\n",
    "    data_path, train=False, download=True,\n",
    "    transform=transforms.Compose([\n",
    "        transforms.ToTensor(),\n",
    "        transforms.Normalize((0.4915, 0.4823, 0.4468),\n",
    "                             (0.2470, 0.2435, 0.2616))\n",
    "    ]))"
   ]
  },
  {
   "cell_type": "code",
   "execution_count": 17,
   "metadata": {
    "id": "kr3_LFjRbz5t"
   },
   "outputs": [],
   "source": [
    "label_map = {6:0, 7:1, 8:2, 9:3}\n",
    "class_names = ['frog', 'horse','ship','truck']\n",
    "cifar2 = [(img, label_map[label])\n",
    "          for img, label in cifar10 \n",
    "          if label in [6,7,8,9]]\n",
    "cifar2_val = [(img, label_map[label])\n",
    "              for img, label in cifar10_val\n",
    "              if label in [6,7,8,9]]"
   ]
  },
  {
   "cell_type": "code",
   "execution_count": 18,
   "metadata": {
    "id": "_sN4rurIbz5t"
   },
   "outputs": [],
   "source": [
    "import torch.nn as nn\n",
    "\n",
    "n_out = 2\n",
    "\n",
    "model = nn.Sequential(\n",
    "            nn.Linear(\n",
    "                3072,  # <1>\n",
    "                512,   # <2>\n",
    "            ),\n",
    "            nn.Tanh(),\n",
    "            nn.Linear(\n",
    "                512,   # <2>\n",
    "                n_out, # <3>\n",
    "            )\n",
    "        )"
   ]
  },
  {
   "cell_type": "code",
   "execution_count": 19,
   "metadata": {
    "id": "YrH61GLZbz5v"
   },
   "outputs": [],
   "source": [
    "def softmax(x):\n",
    "    return torch.exp(x) / torch.exp(x).sum()"
   ]
  },
  {
   "cell_type": "code",
   "execution_count": 20,
   "metadata": {
    "colab": {
     "base_uri": "https://localhost:8080/"
    },
    "id": "2vCVAdb8bz5v",
    "outputId": "7326511f-9ba5-4ec6-8e1f-cfdbabf5d74d"
   },
   "outputs": [
    {
     "data": {
      "text/plain": [
       "tensor([0.0900, 0.2447, 0.6652])"
      ]
     },
     "execution_count": 20,
     "metadata": {},
     "output_type": "execute_result"
    }
   ],
   "source": [
    "x = torch.tensor([1.0, 2.0, 3.0])\n",
    "\n",
    "softmax(x)"
   ]
  },
  {
   "cell_type": "code",
   "execution_count": 21,
   "metadata": {
    "colab": {
     "base_uri": "https://localhost:8080/"
    },
    "id": "2voLQStnbz5v",
    "outputId": "c4f55242-4798-4054-a15f-e55bdeb23691"
   },
   "outputs": [
    {
     "data": {
      "text/plain": [
       "tensor(1.)"
      ]
     },
     "execution_count": 21,
     "metadata": {},
     "output_type": "execute_result"
    }
   ],
   "source": [
    "softmax(x).sum()"
   ]
  },
  {
   "cell_type": "code",
   "execution_count": 22,
   "metadata": {
    "colab": {
     "base_uri": "https://localhost:8080/"
    },
    "id": "jCkxCowHbz5w",
    "outputId": "33d54651-8986-4b48-c8d5-26c0b443b2cc"
   },
   "outputs": [
    {
     "data": {
      "text/plain": [
       "tensor([[0.0900, 0.2447, 0.6652],\n",
       "        [0.0900, 0.2447, 0.6652]])"
      ]
     },
     "execution_count": 22,
     "metadata": {},
     "output_type": "execute_result"
    }
   ],
   "source": [
    "softmax = nn.Softmax(dim=1)\n",
    "\n",
    "x = torch.tensor([[1.0, 2.0, 3.0],\n",
    "                  [1.0, 2.0, 3.0]])\n",
    "\n",
    "softmax(x)"
   ]
  },
  {
   "cell_type": "code",
   "execution_count": 23,
   "metadata": {
    "id": "jnR3niMubz5x"
   },
   "outputs": [],
   "source": [
    "model = nn.Sequential(\n",
    "            nn.Linear(3072, 512),\n",
    "            nn.Tanh(),\n",
    "            nn.Linear(512, 2),\n",
    "            nn.Softmax(dim=1))"
   ]
  },
  {
   "cell_type": "code",
   "execution_count": 24,
   "metadata": {
    "colab": {
     "base_uri": "https://localhost:8080/",
     "height": 284
    },
    "id": "d6e7n_G-bz5y",
    "outputId": "417a252c-9af3-467c-eae9-cce3dc666ec1"
   },
   "outputs": [
    {
     "name": "stderr",
     "output_type": "stream",
     "text": [
      "Clipping input data to the valid range for imshow with RGB data ([0..1] for floats or [0..255] for integers).\n"
     ]
    },
    {
     "data": {
      "image/png": "[encoded data removed]",
      "text/plain": [
       "<Figure size 432x288 with 1 Axes>"
      ]
     },
     "metadata": {
      "needs_background": "light"
     },
     "output_type": "display_data"
    }
   ],
   "source": [
    "img, _ = cifar2[0]\n",
    "\n",
    "plt.imshow(img.permute(1, 2, 0))\n",
    "plt.show()"
   ]
  },
  {
   "cell_type": "code",
   "execution_count": 25,
   "metadata": {
    "id": "R9lx5Zyfbz5z"
   },
   "outputs": [],
   "source": [
    "img_batch = img.view(-1).unsqueeze(0)"
   ]
  },
  {
   "cell_type": "code",
   "execution_count": 26,
   "metadata": {
    "colab": {
     "base_uri": "https://localhost:8080/"
    },
    "id": "HWuZC2nYbz5z",
    "outputId": "df170c7d-7891-4b46-d536-9f16ff8d3ab0"
   },
   "outputs": [
    {
     "data": {
      "text/plain": [
       "tensor([[0.4813, 0.5187]], grad_fn=<SoftmaxBackward>)"
      ]
     },
     "execution_count": 26,
     "metadata": {},
     "output_type": "execute_result"
    }
   ],
   "source": [
    "out = model(img_batch)\n",
    "out"
   ]
  },
  {
   "cell_type": "code",
   "execution_count": 27,
   "metadata": {
    "colab": {
     "base_uri": "https://localhost:8080/"
    },
    "id": "M1Hoffnqbz5z",
    "outputId": "f4545768-12a1-420d-9c35-3b562d07b96c"
   },
   "outputs": [
    {
     "data": {
      "text/plain": [
       "tensor([1])"
      ]
     },
     "execution_count": 27,
     "metadata": {},
     "output_type": "execute_result"
    }
   ],
   "source": [
    "_, index = torch.max(out, dim=1)\n",
    "\n",
    "index"
   ]
  },
  {
   "cell_type": "code",
   "execution_count": 28,
   "metadata": {
    "colab": {
     "base_uri": "https://localhost:8080/"
    },
    "id": "7S2270Gybz50",
    "outputId": "959a8c46-5124-44b5-b2cc-f1c4468c5c04"
   },
   "outputs": [
    {
     "data": {
      "text/plain": [
       "tensor([[1., 0.],\n",
       "        [1., 0.],\n",
       "        [0., 1.],\n",
       "        [0., 1.]])"
      ]
     },
     "execution_count": 28,
     "metadata": {},
     "output_type": "execute_result"
    }
   ],
   "source": [
    "out = torch.tensor([\n",
    "    [0.6, 0.4],\n",
    "    [0.9, 0.1],\n",
    "    [0.3, 0.7],\n",
    "    [0.2, 0.8],\n",
    "])\n",
    "class_index = torch.tensor([0, 0, 1, 1]).unsqueeze(1)\n",
    "\n",
    "truth = torch.zeros((4,2))\n",
    "truth.scatter_(dim=1, index=class_index, value=1.0)\n",
    "truth"
   ]
  },
  {
   "cell_type": "code",
   "execution_count": 29,
   "metadata": {
    "colab": {
     "base_uri": "https://localhost:8080/"
    },
    "id": "jtseDT2ubz50",
    "outputId": "27f40b77-882a-4014-ed18-6eb8e7e6e7e1"
   },
   "outputs": [
    {
     "data": {
      "text/plain": [
       "tensor(0.1500)"
      ]
     },
     "execution_count": 29,
     "metadata": {},
     "output_type": "execute_result"
    }
   ],
   "source": [
    "def mse(out):\n",
    "    return ((out - truth) ** 2).sum(dim=1).mean()\n",
    "mse(out)"
   ]
  },
  {
   "cell_type": "code",
   "execution_count": 30,
   "metadata": {
    "colab": {
     "base_uri": "https://localhost:8080/"
    },
    "id": "41q7V2Acbz51",
    "outputId": "431110f3-f270-46c2-cf25-3954caf95970"
   },
   "outputs": [
    {
     "data": {
      "text/plain": [
       "tensor([[0.6000],\n",
       "        [0.9000],\n",
       "        [0.7000],\n",
       "        [0.8000]])"
      ]
     },
     "execution_count": 30,
     "metadata": {},
     "output_type": "execute_result"
    }
   ],
   "source": [
    "out.gather(dim=1, index=class_index)"
   ]
  },
  {
   "cell_type": "code",
   "execution_count": 31,
   "metadata": {
    "colab": {
     "base_uri": "https://localhost:8080/"
    },
    "id": "pjrpXuhHbz51",
    "outputId": "597a65e5-6abc-405b-a264-57ab34b6766b"
   },
   "outputs": [
    {
     "data": {
      "text/plain": [
       "tensor([0.3024])"
      ]
     },
     "execution_count": 31,
     "metadata": {},
     "output_type": "execute_result"
    }
   ],
   "source": [
    "def likelihood(out):\n",
    "    prod = 1.0\n",
    "    for x in out.gather(dim=1, index=class_index):\n",
    "        prod *= x\n",
    "    return prod\n",
    "\n",
    "likelihood(out)"
   ]
  },
  {
   "cell_type": "code",
   "execution_count": 32,
   "metadata": {
    "colab": {
     "base_uri": "https://localhost:8080/"
    },
    "id": "5IiYiYyCbz52",
    "outputId": "09202c23-1162-486c-8588-bf0a67dcb439"
   },
   "outputs": [
    {
     "data": {
      "text/plain": [
       "tensor([1.1960])"
      ]
     },
     "execution_count": 32,
     "metadata": {},
     "output_type": "execute_result"
    }
   ],
   "source": [
    "def neg_log_likelihood(out):\n",
    "    return -likelihood(out).log()\n",
    "\n",
    "neg_log_likelihood(out)"
   ]
  },
  {
   "cell_type": "code",
   "execution_count": 33,
   "metadata": {
    "colab": {
     "base_uri": "https://localhost:8080/"
    },
    "id": "J8GTc8EPbz52",
    "outputId": "afe989eb-b602-4b62-ed8f-5fca02e33d47"
   },
   "outputs": [
    {
     "data": {
      "text/plain": [
       "tensor([0.0750, 0.1500, 0.2500, 0.4750])"
      ]
     },
     "execution_count": 33,
     "metadata": {},
     "output_type": "execute_result"
    }
   ],
   "source": [
    "out0 = out.clone().detach()\n",
    "out0[0] = torch.tensor([0.9, 0.1]) # more right\n",
    "\n",
    "out2 = out.clone().detach()\n",
    "out2[0] = torch.tensor([0.4, 0.6]) # slightly wrong\n",
    "\n",
    "out3 = out.clone().detach()\n",
    "out3[0] = torch.tensor([0.1, 0.9]) # very wrong\n",
    "\n",
    "mse_comparison = torch.tensor([mse(o) for o in [out0, out, out2, out3]])\n",
    "mse_comparison"
   ]
  },
  {
   "cell_type": "code",
   "execution_count": 34,
   "metadata": {
    "colab": {
     "base_uri": "https://localhost:8080/"
    },
    "id": "aFOSMoM3bz53",
    "outputId": "0d4bd590-670e-470e-89c7-57a1873e4345"
   },
   "outputs": [
    {
     "data": {
      "text/plain": [
       "tensor([-50.0000,   0.0000,  66.6667, 216.6667])"
      ]
     },
     "execution_count": 34,
     "metadata": {},
     "output_type": "execute_result"
    }
   ],
   "source": [
    "((mse_comparison / mse_comparison[1]) - 1) * 100"
   ]
  },
  {
   "cell_type": "code",
   "execution_count": 35,
   "metadata": {
    "colab": {
     "base_uri": "https://localhost:8080/"
    },
    "id": "0UmdxKFQbz53",
    "outputId": "0792654e-5dff-41fa-e797-f3deaaa121d9"
   },
   "outputs": [
    {
     "data": {
      "text/plain": [
       "tensor([0.7905, 1.1960, 1.6015, 2.9878])"
      ]
     },
     "execution_count": 35,
     "metadata": {},
     "output_type": "execute_result"
    }
   ],
   "source": [
    "nll_comparison = torch.tensor([neg_log_likelihood(o) \n",
    "                               for o in [out0, out, out2, out3]])\n",
    "nll_comparison"
   ]
  },
  {
   "cell_type": "code",
   "execution_count": 36,
   "metadata": {
    "colab": {
     "base_uri": "https://localhost:8080/"
    },
    "id": "dHojUXPubz53",
    "outputId": "b6792a1f-1e9d-45f3-d2f7-9789acd003df"
   },
   "outputs": [
    {
     "data": {
      "text/plain": [
       "tensor([-33.9016,   0.0000,  33.9016, 149.8121])"
      ]
     },
     "execution_count": 36,
     "metadata": {},
     "output_type": "execute_result"
    }
   ],
   "source": [
    "((nll_comparison / nll_comparison[1]) - 1) * 100"
   ]
  },
  {
   "cell_type": "code",
   "execution_count": 37,
   "metadata": {
    "colab": {
     "base_uri": "https://localhost:8080/"
    },
    "id": "nsXTZc08bz54",
    "outputId": "6ef001ba-9298-471a-9a8d-64b128aba127"
   },
   "outputs": [
    {
     "data": {
      "text/plain": [
       "tensor([[0., 1.]])"
      ]
     },
     "execution_count": 37,
     "metadata": {},
     "output_type": "execute_result"
    }
   ],
   "source": [
    "softmax = nn.Softmax(dim=1)\n",
    "\n",
    "log_softmax = nn.LogSoftmax(dim=1)\n",
    "\n",
    "x = torch.tensor([[0.0, 104.0]])\n",
    "\n",
    "softmax(x)"
   ]
  },
  {
   "cell_type": "code",
   "execution_count": 38,
   "metadata": {
    "colab": {
     "base_uri": "https://localhost:8080/"
    },
    "id": "eMR2PfF4bz54",
    "outputId": "a18e7231-61ea-4a1b-c933-e12e1221ffc9"
   },
   "outputs": [
    {
     "data": {
      "text/plain": [
       "tensor([[0., 1.]])"
      ]
     },
     "execution_count": 38,
     "metadata": {},
     "output_type": "execute_result"
    }
   ],
   "source": [
    "softmax = nn.Softmax(dim=1)\n",
    "\n",
    "log_softmax = nn.LogSoftmax(dim=1)\n",
    "\n",
    "x = torch.tensor([[0.0, 104.0]])\n",
    "\n",
    "softmax(x)"
   ]
  },
  {
   "cell_type": "code",
   "execution_count": 39,
   "metadata": {
    "colab": {
     "base_uri": "https://localhost:8080/"
    },
    "id": "trE05x9ibz55",
    "outputId": "6cb6c44d-eef7-4ee0-81dd-3b7a07e31ac6"
   },
   "outputs": [
    {
     "data": {
      "text/plain": [
       "tensor([[-inf, 0.]])"
      ]
     },
     "execution_count": 39,
     "metadata": {},
     "output_type": "execute_result"
    }
   ],
   "source": [
    "torch.log(softmax(x))"
   ]
  },
  {
   "cell_type": "code",
   "execution_count": 40,
   "metadata": {
    "colab": {
     "base_uri": "https://localhost:8080/"
    },
    "id": "e-wXDZJmbz55",
    "outputId": "3332e657-e3de-44ed-bc1d-9f01dc92d96b"
   },
   "outputs": [
    {
     "data": {
      "text/plain": [
       "tensor([[-104.,    0.]])"
      ]
     },
     "execution_count": 40,
     "metadata": {},
     "output_type": "execute_result"
    }
   ],
   "source": [
    "log_softmax(x)"
   ]
  },
  {
   "cell_type": "code",
   "execution_count": 41,
   "metadata": {
    "colab": {
     "base_uri": "https://localhost:8080/"
    },
    "id": "w9qRV03Lbz55",
    "outputId": "1849c40b-9e23-4f1b-8e42-b287b1b26dee"
   },
   "outputs": [
    {
     "data": {
      "text/plain": [
       "tensor([[0., 1.]])"
      ]
     },
     "execution_count": 41,
     "metadata": {},
     "output_type": "execute_result"
    }
   ],
   "source": [
    "torch.exp(log_softmax(x))"
   ]
  },
  {
   "cell_type": "code",
   "execution_count": 42,
   "metadata": {
    "id": "LvjAvWunbz55"
   },
   "outputs": [],
   "source": [
    "model = nn.Sequential(\n",
    "            nn.Linear(3072, 512),\n",
    "            nn.Tanh(),\n",
    "            nn.Linear(512, 2),\n",
    "            nn.LogSoftmax(dim=1))"
   ]
  },
  {
   "cell_type": "code",
   "execution_count": 43,
   "metadata": {
    "id": "HF3kgZyibz55"
   },
   "outputs": [],
   "source": [
    "loss = nn.NLLLoss()"
   ]
  },
  {
   "cell_type": "code",
   "execution_count": 44,
   "metadata": {
    "colab": {
     "base_uri": "https://localhost:8080/"
    },
    "id": "Q6ljIOnRbz56",
    "outputId": "b2ae70cc-882c-47e1-f551-572af00db862"
   },
   "outputs": [
    {
     "data": {
      "text/plain": [
       "tensor(0.8378, grad_fn=<NllLossBackward>)"
      ]
     },
     "execution_count": 44,
     "metadata": {},
     "output_type": "execute_result"
    }
   ],
   "source": [
    "img, label = cifar2[0]\n",
    "\n",
    "out = model(img.view(-1).unsqueeze(0))\n",
    "\n",
    "loss(out, torch.tensor([label]))"
   ]
  },
  {
   "cell_type": "code",
   "execution_count": 45,
   "metadata": {
    "colab": {
     "base_uri": "https://localhost:8080/"
    },
    "id": "3wt5WB7Fbz56",
    "outputId": "aa4c4c86-65c0-424d-fc66-21a5ec83fc4d"
   },
   "outputs": [
    {
     "name": "stderr",
     "output_type": "stream",
     "text": [
      "/home/jslowik/my_project_dir/my_project_env/lib/python3.8/site-packages/torch/autograd/__init__.py:145: UserWarning: CUDA initialization: Unexpected error from cudaGetDeviceCount(). Did you run some cuda functions before calling NumCudaDevices() that might have already set an error? Error 804: forward compatibility was attempted on non supported HW (Triggered internally at  /pytorch/c10/cuda/CUDAFunctions.cpp:109.)\n",
      "  Variable._execution_engine.run_backward(\n"
     ]
    },
    {
     "name": "stdout",
     "output_type": "stream",
     "text": [
      "Epoch: 0, Loss: 1.243082\n",
      "Epoch: 1, Loss: 0.548146\n",
      "Epoch: 2, Loss: 0.932015\n",
      "Epoch: 3, Loss: 0.169997\n",
      "Epoch: 4, Loss: 0.315956\n",
      "Epoch: 5, Loss: 2.439218\n",
      "Epoch: 6, Loss: 0.141258\n",
      "Epoch: 7, Loss: 0.061503\n",
      "Epoch: 8, Loss: 0.578588\n",
      "Epoch: 9, Loss: 0.107993\n",
      "Epoch: 10, Loss: 0.697367\n",
      "Epoch: 11, Loss: 0.551811\n",
      "Epoch: 12, Loss: 0.079274\n",
      "Epoch: 13, Loss: 0.618779\n",
      "Epoch: 14, Loss: 0.438550\n",
      "Epoch: 15, Loss: 0.189376\n",
      "Epoch: 16, Loss: 0.081803\n",
      "Epoch: 17, Loss: 0.011746\n",
      "Epoch: 18, Loss: 0.059550\n",
      "Epoch: 19, Loss: 0.162876\n",
      "Epoch: 20, Loss: 0.168925\n",
      "Epoch: 21, Loss: 0.190359\n",
      "Epoch: 22, Loss: 0.009904\n",
      "Epoch: 23, Loss: 0.034636\n",
      "Epoch: 24, Loss: 0.097111\n",
      "Epoch: 25, Loss: 0.932584\n",
      "Epoch: 26, Loss: 0.024422\n",
      "Epoch: 27, Loss: 0.124040\n",
      "Epoch: 28, Loss: 0.415125\n",
      "Epoch: 29, Loss: 0.919839\n",
      "Epoch: 30, Loss: 0.006476\n",
      "Epoch: 31, Loss: 0.008057\n",
      "Epoch: 32, Loss: 0.012759\n",
      "Epoch: 33, Loss: 0.009646\n",
      "Epoch: 34, Loss: 0.015655\n",
      "Epoch: 35, Loss: 0.031573\n",
      "Epoch: 36, Loss: 0.003182\n",
      "Epoch: 37, Loss: 0.012605\n",
      "Epoch: 38, Loss: 0.007830\n",
      "Epoch: 39, Loss: 0.055353\n",
      "Epoch: 40, Loss: 0.129127\n",
      "Epoch: 41, Loss: 0.008928\n",
      "Epoch: 42, Loss: 0.017142\n",
      "Epoch: 43, Loss: 0.031106\n",
      "Epoch: 44, Loss: 0.041624\n",
      "Epoch: 45, Loss: 0.145222\n",
      "Epoch: 46, Loss: 0.026279\n",
      "Epoch: 47, Loss: 0.162810\n",
      "Epoch: 48, Loss: 0.107681\n",
      "Epoch: 49, Loss: 0.004566\n",
      "Epoch: 50, Loss: 0.004618\n",
      "Epoch: 51, Loss: 0.009822\n",
      "Epoch: 52, Loss: 0.079871\n",
      "Epoch: 53, Loss: 0.281986\n",
      "Epoch: 54, Loss: 0.002134\n",
      "Epoch: 55, Loss: 0.000209\n",
      "Epoch: 56, Loss: 0.000164\n",
      "Epoch: 57, Loss: 0.002659\n",
      "Epoch: 58, Loss: 0.002215\n",
      "Epoch: 59, Loss: 0.011027\n",
      "Epoch: 60, Loss: 0.000162\n",
      "Epoch: 61, Loss: 0.000572\n",
      "Epoch: 62, Loss: 0.000341\n",
      "Epoch: 63, Loss: 0.000034\n",
      "Epoch: 64, Loss: 0.000143\n",
      "Epoch: 65, Loss: 0.001020\n",
      "Epoch: 66, Loss: 0.000027\n",
      "Epoch: 67, Loss: 0.000002\n",
      "Epoch: 68, Loss: 0.000110\n",
      "Epoch: 69, Loss: 0.008073\n",
      "Epoch: 70, Loss: 0.000007\n",
      "Epoch: 71, Loss: 0.000193\n",
      "Epoch: 72, Loss: 0.000193\n",
      "Epoch: 73, Loss: 0.017700\n",
      "Epoch: 74, Loss: 0.015274\n",
      "Epoch: 75, Loss: 0.094297\n",
      "Epoch: 76, Loss: 0.000073\n",
      "Epoch: 77, Loss: 0.017393\n",
      "Epoch: 78, Loss: 0.001881\n",
      "Epoch: 79, Loss: 0.533207\n",
      "Epoch: 80, Loss: 0.143378\n",
      "Epoch: 81, Loss: 0.009299\n",
      "Epoch: 82, Loss: 0.001302\n",
      "Epoch: 83, Loss: 0.000013\n",
      "Epoch: 84, Loss: 0.000004\n",
      "Epoch: 85, Loss: 0.000082\n",
      "Epoch: 86, Loss: 0.000185\n",
      "Epoch: 87, Loss: 0.001683\n",
      "Epoch: 88, Loss: 0.000448\n",
      "Epoch: 89, Loss: 0.000265\n",
      "Epoch: 90, Loss: 0.000019\n",
      "Epoch: 91, Loss: 0.000174\n",
      "Epoch: 92, Loss: 1.018733\n",
      "Epoch: 93, Loss: 0.000356\n",
      "Epoch: 94, Loss: 0.279553\n",
      "Epoch: 95, Loss: 0.005232\n",
      "Epoch: 96, Loss: 0.000132\n",
      "Epoch: 97, Loss: 0.015426\n",
      "Epoch: 98, Loss: 0.000061\n",
      "Epoch: 99, Loss: 0.001555\n",
      "Epoch: 100, Loss: 0.000022\n",
      "Epoch: 101, Loss: 0.001633\n",
      "Epoch: 102, Loss: 0.001323\n",
      "Epoch: 103, Loss: 0.003725\n",
      "Epoch: 104, Loss: 0.000054\n",
      "Epoch: 105, Loss: 0.000016\n",
      "Epoch: 106, Loss: 0.000004\n",
      "Epoch: 107, Loss: 0.000600\n",
      "Epoch: 108, Loss: 0.000169\n",
      "Epoch: 109, Loss: 0.018988\n",
      "Epoch: 110, Loss: 0.000002\n",
      "Epoch: 111, Loss: 0.000015\n",
      "Epoch: 112, Loss: 0.000190\n",
      "Epoch: 113, Loss: 0.000695\n",
      "Epoch: 114, Loss: 0.000041\n",
      "Epoch: 115, Loss: 0.001632\n",
      "Epoch: 116, Loss: 0.000085\n",
      "Epoch: 117, Loss: 0.004190\n",
      "Epoch: 118, Loss: 0.000426\n",
      "Epoch: 119, Loss: 0.000891\n",
      "Epoch: 120, Loss: 0.000086\n",
      "Epoch: 121, Loss: 0.020630\n",
      "Epoch: 122, Loss: 0.013077\n",
      "Epoch: 123, Loss: 0.000310\n",
      "Epoch: 124, Loss: 0.000067\n",
      "Epoch: 125, Loss: 0.000285\n",
      "Epoch: 126, Loss: 0.000099\n",
      "Epoch: 127, Loss: 0.000679\n",
      "Epoch: 128, Loss: 0.000001\n",
      "Epoch: 129, Loss: 0.000006\n",
      "Epoch: 130, Loss: 0.001241\n",
      "Epoch: 131, Loss: 0.000001\n",
      "Epoch: 132, Loss: 0.000002\n",
      "Epoch: 133, Loss: 0.000020\n",
      "Epoch: 134, Loss: 0.000000\n",
      "Epoch: 135, Loss: 0.000634\n",
      "Epoch: 136, Loss: 0.000069\n",
      "Epoch: 137, Loss: 0.000010\n",
      "Epoch: 138, Loss: 0.000005\n",
      "Epoch: 139, Loss: 0.000165\n",
      "Epoch: 140, Loss: 0.000083\n",
      "Epoch: 141, Loss: 0.000030\n",
      "Epoch: 142, Loss: 0.000003\n",
      "Epoch: 143, Loss: 0.000070\n",
      "Epoch: 144, Loss: 0.000075\n",
      "Epoch: 145, Loss: 0.000211\n",
      "Epoch: 146, Loss: 0.001082\n",
      "Epoch: 147, Loss: 0.000601\n",
      "Epoch: 148, Loss: 0.001334\n",
      "Epoch: 149, Loss: 0.051924\n",
      "Epoch: 150, Loss: 0.000773\n",
      "Epoch: 151, Loss: 0.003599\n",
      "Epoch: 152, Loss: 0.064983\n",
      "Epoch: 153, Loss: 0.000416\n",
      "Epoch: 154, Loss: 0.000080\n",
      "Epoch: 155, Loss: 0.008699\n",
      "Epoch: 156, Loss: 0.000202\n",
      "Epoch: 157, Loss: 0.000014\n",
      "Epoch: 158, Loss: 0.004125\n",
      "Epoch: 159, Loss: 0.001884\n",
      "Epoch: 160, Loss: 0.001189\n",
      "Epoch: 161, Loss: 0.000019\n",
      "Epoch: 162, Loss: 0.000174\n",
      "Epoch: 163, Loss: 0.000104\n",
      "Epoch: 164, Loss: 0.000009\n",
      "Epoch: 165, Loss: 0.000011\n",
      "Epoch: 166, Loss: 0.000088\n",
      "Epoch: 167, Loss: 0.000004\n",
      "Epoch: 168, Loss: 0.000800\n",
      "Epoch: 169, Loss: 0.000018\n",
      "Epoch: 170, Loss: 0.000131\n",
      "Epoch: 171, Loss: 0.000016\n",
      "Epoch: 172, Loss: 0.000015\n",
      "Epoch: 173, Loss: 0.000009\n",
      "Epoch: 174, Loss: 0.000002\n",
      "Epoch: 175, Loss: 0.000005\n",
      "Epoch: 176, Loss: 0.000958\n",
      "Epoch: 177, Loss: 0.009436\n",
      "Epoch: 178, Loss: 0.471136\n",
      "Epoch: 179, Loss: 0.000385\n",
      "Epoch: 180, Loss: 0.000004\n",
      "Epoch: 181, Loss: 0.000042\n",
      "Epoch: 182, Loss: 0.002285\n",
      "Epoch: 183, Loss: 0.445143\n",
      "Epoch: 184, Loss: 0.000676\n",
      "Epoch: 185, Loss: 0.105129\n",
      "Epoch: 186, Loss: 0.003238\n",
      "Epoch: 187, Loss: 0.000003\n",
      "Epoch: 188, Loss: 0.020313\n",
      "Epoch: 189, Loss: 0.001109\n",
      "Epoch: 190, Loss: 0.001612\n",
      "Epoch: 191, Loss: 0.066389\n",
      "Epoch: 192, Loss: 0.001614\n",
      "Epoch: 193, Loss: 0.050485\n",
      "Epoch: 194, Loss: 0.000519\n",
      "Epoch: 195, Loss: 0.003175\n",
      "Epoch: 196, Loss: 0.000061\n",
      "Epoch: 197, Loss: 0.024001\n",
      "Epoch: 198, Loss: 0.000470\n",
      "Epoch: 199, Loss: 0.003302\n"
     ]
    }
   ],
   "source": [
    "import torch\n",
    "import torch.nn as nn\n",
    "import torch.optim as optim\n",
    "\n",
    "model = nn.Sequential(\n",
    "            nn.Linear(3072, 1024),\n",
    "            nn.Tanh(),\n",
    "            nn.Linear(1024, 512),\n",
    "            nn.Tanh(),\n",
    "            nn.Linear(512, 128),\n",
    "            nn.Tanh(),\n",
    "            nn.Linear(128, 4),\n",
    "            nn.LogSoftmax(dim=1))\n",
    "\n",
    "learning_rate = 1e-2\n",
    "\n",
    "optimizer = optim.SGD(model.parameters(), lr=learning_rate)\n",
    "\n",
    "loss_fn = nn.NLLLoss()\n",
    "\n",
    "n_epochs = 200\n",
    "\n",
    "for epoch in range(n_epochs):\n",
    "    for img, label in cifar2:\n",
    "        out = model(img.view(-1).unsqueeze(0))\n",
    "        loss = loss_fn(out, torch.tensor([label]))\n",
    "                \n",
    "        optimizer.zero_grad()\n",
    "        loss.backward()\n",
    "        optimizer.step()\n",
    "\n",
    "    print(\"Epoch: %d, Loss: %f\" % (epoch, float(loss)))"
   ]
  },
  {
   "cell_type": "code",
   "execution_count": 46,
   "metadata": {
    "id": "glHt3J4Pbz57"
   },
   "outputs": [],
   "source": [
    "train_loader = torch.utils.data.DataLoader(cifar2, batch_size=64,\n",
    "                                           shuffle=True)"
   ]
  },
  {
   "cell_type": "code",
   "execution_count": 47,
   "metadata": {
    "id": "Woi-Y-RIbz57"
   },
   "outputs": [
    {
     "name": "stdout",
     "output_type": "stream",
     "text": [
      "Epoch: 0, Loss: 0.747161\n",
      "Epoch: 1, Loss: 0.597091\n",
      "Epoch: 2, Loss: 0.843865\n",
      "Epoch: 3, Loss: 0.723263\n",
      "Epoch: 4, Loss: 0.852786\n",
      "Epoch: 5, Loss: 0.654204\n",
      "Epoch: 6, Loss: 0.641875\n",
      "Epoch: 7, Loss: 0.627172\n",
      "Epoch: 8, Loss: 0.717173\n",
      "Epoch: 9, Loss: 0.422885\n",
      "Epoch: 10, Loss: 0.427043\n",
      "Epoch: 11, Loss: 0.525573\n",
      "Epoch: 12, Loss: 0.414445\n",
      "Epoch: 13, Loss: 0.547417\n",
      "Epoch: 14, Loss: 0.779358\n",
      "Epoch: 15, Loss: 0.506499\n",
      "Epoch: 16, Loss: 0.788995\n",
      "Epoch: 17, Loss: 0.596254\n",
      "Epoch: 18, Loss: 0.337827\n",
      "Epoch: 19, Loss: 0.469661\n",
      "Epoch: 20, Loss: 0.338278\n",
      "Epoch: 21, Loss: 0.443974\n",
      "Epoch: 22, Loss: 0.230342\n",
      "Epoch: 23, Loss: 0.350829\n",
      "Epoch: 24, Loss: 0.370630\n",
      "Epoch: 25, Loss: 0.506468\n",
      "Epoch: 26, Loss: 0.343951\n",
      "Epoch: 27, Loss: 0.178061\n",
      "Epoch: 28, Loss: 0.221187\n",
      "Epoch: 29, Loss: 0.299355\n",
      "Epoch: 30, Loss: 0.346360\n",
      "Epoch: 31, Loss: 0.199286\n",
      "Epoch: 32, Loss: 0.231356\n",
      "Epoch: 33, Loss: 0.262224\n",
      "Epoch: 34, Loss: 0.217820\n",
      "Epoch: 35, Loss: 0.091862\n",
      "Epoch: 36, Loss: 0.239234\n",
      "Epoch: 37, Loss: 0.212719\n",
      "Epoch: 38, Loss: 0.211490\n",
      "Epoch: 39, Loss: 0.233406\n",
      "Epoch: 40, Loss: 0.173084\n",
      "Epoch: 41, Loss: 0.091322\n",
      "Epoch: 42, Loss: 0.100793\n",
      "Epoch: 43, Loss: 0.160916\n",
      "Epoch: 44, Loss: 0.216217\n",
      "Epoch: 45, Loss: 0.077842\n",
      "Epoch: 46, Loss: 0.143672\n",
      "Epoch: 47, Loss: 0.211791\n",
      "Epoch: 48, Loss: 0.092994\n",
      "Epoch: 49, Loss: 0.148013\n",
      "Epoch: 50, Loss: 0.158200\n",
      "Epoch: 51, Loss: 0.152261\n",
      "Epoch: 52, Loss: 0.116379\n",
      "Epoch: 53, Loss: 0.104195\n",
      "Epoch: 54, Loss: 0.077433\n",
      "Epoch: 55, Loss: 0.079153\n",
      "Epoch: 56, Loss: 0.078539\n",
      "Epoch: 57, Loss: 0.089766\n",
      "Epoch: 58, Loss: 0.077308\n",
      "Epoch: 59, Loss: 0.102752\n",
      "Epoch: 60, Loss: 0.056341\n",
      "Epoch: 61, Loss: 0.025328\n",
      "Epoch: 62, Loss: 0.056338\n",
      "Epoch: 63, Loss: 0.081796\n",
      "Epoch: 64, Loss: 0.059220\n",
      "Epoch: 65, Loss: 0.053646\n",
      "Epoch: 66, Loss: 0.031496\n",
      "Epoch: 67, Loss: 0.079674\n",
      "Epoch: 68, Loss: 0.053770\n",
      "Epoch: 69, Loss: 0.092697\n",
      "Epoch: 70, Loss: 0.105291\n",
      "Epoch: 71, Loss: 0.069651\n",
      "Epoch: 72, Loss: 0.097078\n",
      "Epoch: 73, Loss: 0.031755\n",
      "Epoch: 74, Loss: 0.039145\n",
      "Epoch: 75, Loss: 0.081252\n",
      "Epoch: 76, Loss: 0.030969\n",
      "Epoch: 77, Loss: 0.074048\n",
      "Epoch: 78, Loss: 0.042648\n",
      "Epoch: 79, Loss: 0.026763\n",
      "Epoch: 80, Loss: 0.020862\n",
      "Epoch: 81, Loss: 0.041415\n",
      "Epoch: 82, Loss: 0.027455\n",
      "Epoch: 83, Loss: 0.037110\n",
      "Epoch: 84, Loss: 0.079422\n",
      "Epoch: 85, Loss: 0.038589\n",
      "Epoch: 86, Loss: 0.040303\n",
      "Epoch: 87, Loss: 0.023714\n",
      "Epoch: 88, Loss: 0.030099\n",
      "Epoch: 89, Loss: 0.021984\n",
      "Epoch: 90, Loss: 0.038458\n",
      "Epoch: 91, Loss: 0.047967\n",
      "Epoch: 92, Loss: 0.015668\n",
      "Epoch: 93, Loss: 0.020620\n",
      "Epoch: 94, Loss: 0.018688\n",
      "Epoch: 95, Loss: 0.030434\n",
      "Epoch: 96, Loss: 0.033251\n",
      "Epoch: 97, Loss: 0.023585\n",
      "Epoch: 98, Loss: 0.033373\n",
      "Epoch: 99, Loss: 0.017925\n"
     ]
    }
   ],
   "source": [
    "import torch\n",
    "import torch.nn as nn\n",
    "import torch.optim as optim\n",
    "\n",
    "train_loader = torch.utils.data.DataLoader(cifar2, batch_size=64,\n",
    "                                           shuffle=True)\n",
    "\n",
    "model = nn.Sequential(\n",
    "            nn.Linear(3072, 128),\n",
    "            nn.Tanh(),\n",
    "            nn.Linear(128, 4),\n",
    "            nn.LogSoftmax(dim=1))\n",
    "\n",
    "learning_rate = 1e-2\n",
    "\n",
    "optimizer = optim.SGD(model.parameters(), lr=learning_rate)\n",
    "\n",
    "loss_fn = nn.NLLLoss()\n",
    "\n",
    "n_epochs = 100\n",
    "\n",
    "for epoch in range(n_epochs):\n",
    "    for imgs, labels in train_loader:\n",
    "        outputs = model(imgs.view(imgs.shape[0], -1))\n",
    "        loss = loss_fn(outputs, labels)\n",
    "\n",
    "        optimizer.zero_grad()\n",
    "        loss.backward()\n",
    "        optimizer.step()\n",
    "\n",
    "    print(\"Epoch: %d, Loss: %f\" % (epoch, float(loss)))"
   ]
  },
  {
   "cell_type": "code",
   "execution_count": 48,
   "metadata": {
    "id": "Va5DV_ztbz58"
   },
   "outputs": [
    {
     "name": "stdout",
     "output_type": "stream",
     "text": [
      "Epoch: 0, Loss: 0.698913\n",
      "Epoch: 1, Loss: 0.563975\n",
      "Epoch: 2, Loss: 0.843531\n",
      "Epoch: 3, Loss: 0.948495\n",
      "Epoch: 4, Loss: 0.906816\n",
      "Epoch: 5, Loss: 0.524139\n",
      "Epoch: 6, Loss: 0.750646\n",
      "Epoch: 7, Loss: 0.546581\n",
      "Epoch: 8, Loss: 0.525565\n",
      "Epoch: 9, Loss: 0.452217\n",
      "Epoch: 10, Loss: 0.673746\n",
      "Epoch: 11, Loss: 0.453285\n",
      "Epoch: 12, Loss: 0.398217\n",
      "Epoch: 13, Loss: 0.472489\n",
      "Epoch: 14, Loss: 0.602265\n",
      "Epoch: 15, Loss: 0.629979\n",
      "Epoch: 16, Loss: 0.580442\n",
      "Epoch: 17, Loss: 0.237232\n",
      "Epoch: 18, Loss: 0.521063\n",
      "Epoch: 19, Loss: 0.513679\n",
      "Epoch: 20, Loss: 0.251487\n",
      "Epoch: 21, Loss: 0.347835\n",
      "Epoch: 22, Loss: 0.550319\n",
      "Epoch: 23, Loss: 0.220483\n",
      "Epoch: 24, Loss: 0.300832\n",
      "Epoch: 25, Loss: 0.489581\n",
      "Epoch: 26, Loss: 0.288087\n",
      "Epoch: 27, Loss: 0.135026\n",
      "Epoch: 28, Loss: 0.208802\n",
      "Epoch: 29, Loss: 0.291663\n",
      "Epoch: 30, Loss: 0.275132\n",
      "Epoch: 31, Loss: 0.194159\n",
      "Epoch: 32, Loss: 0.093949\n",
      "Epoch: 33, Loss: 0.143653\n",
      "Epoch: 34, Loss: 0.297038\n",
      "Epoch: 35, Loss: 0.084638\n",
      "Epoch: 36, Loss: 0.072860\n",
      "Epoch: 37, Loss: 0.073930\n",
      "Epoch: 38, Loss: 0.114815\n",
      "Epoch: 39, Loss: 0.067495\n",
      "Epoch: 40, Loss: 0.086059\n",
      "Epoch: 41, Loss: 0.069360\n",
      "Epoch: 42, Loss: 0.056469\n",
      "Epoch: 43, Loss: 0.094137\n",
      "Epoch: 44, Loss: 0.089080\n",
      "Epoch: 45, Loss: 0.102994\n",
      "Epoch: 46, Loss: 0.080405\n",
      "Epoch: 47, Loss: 0.034275\n",
      "Epoch: 48, Loss: 0.050640\n",
      "Epoch: 49, Loss: 0.052719\n",
      "Epoch: 50, Loss: 0.055460\n",
      "Epoch: 51, Loss: 0.056283\n",
      "Epoch: 52, Loss: 0.042940\n",
      "Epoch: 53, Loss: 0.043533\n",
      "Epoch: 54, Loss: 0.031667\n",
      "Epoch: 55, Loss: 0.034613\n",
      "Epoch: 56, Loss: 0.044493\n",
      "Epoch: 57, Loss: 0.024714\n",
      "Epoch: 58, Loss: 0.068646\n",
      "Epoch: 59, Loss: 0.051651\n",
      "Epoch: 60, Loss: 0.047597\n",
      "Epoch: 61, Loss: 0.022987\n",
      "Epoch: 62, Loss: 0.030392\n",
      "Epoch: 63, Loss: 0.090296\n",
      "Epoch: 64, Loss: 0.033802\n",
      "Epoch: 65, Loss: 0.027136\n",
      "Epoch: 66, Loss: 0.027337\n",
      "Epoch: 67, Loss: 0.028392\n",
      "Epoch: 68, Loss: 0.022008\n",
      "Epoch: 69, Loss: 0.035831\n",
      "Epoch: 70, Loss: 0.020241\n",
      "Epoch: 71, Loss: 0.014290\n",
      "Epoch: 72, Loss: 0.019244\n",
      "Epoch: 73, Loss: 0.031482\n",
      "Epoch: 74, Loss: 0.025333\n",
      "Epoch: 75, Loss: 0.018050\n",
      "Epoch: 76, Loss: 0.023627\n",
      "Epoch: 77, Loss: 0.014227\n",
      "Epoch: 78, Loss: 0.033081\n",
      "Epoch: 79, Loss: 0.026865\n",
      "Epoch: 80, Loss: 0.014851\n",
      "Epoch: 81, Loss: 0.021450\n",
      "Epoch: 82, Loss: 0.016307\n",
      "Epoch: 83, Loss: 0.010939\n",
      "Epoch: 84, Loss: 0.019732\n",
      "Epoch: 85, Loss: 0.010146\n",
      "Epoch: 86, Loss: 0.011138\n",
      "Epoch: 87, Loss: 0.011734\n",
      "Epoch: 88, Loss: 0.018403\n",
      "Epoch: 89, Loss: 0.015063\n",
      "Epoch: 90, Loss: 0.011817\n",
      "Epoch: 91, Loss: 0.008757\n",
      "Epoch: 92, Loss: 0.010923\n",
      "Epoch: 93, Loss: 0.020212\n",
      "Epoch: 94, Loss: 0.019594\n",
      "Epoch: 95, Loss: 0.011350\n",
      "Epoch: 96, Loss: 0.016095\n",
      "Epoch: 97, Loss: 0.010520\n",
      "Epoch: 98, Loss: 0.012789\n",
      "Epoch: 99, Loss: 0.016041\n"
     ]
    }
   ],
   "source": [
    "import torch\n",
    "import torch.nn as nn\n",
    "import torch.optim as optim\n",
    "\n",
    "train_loader = torch.utils.data.DataLoader(cifar2, batch_size=64,\n",
    "                                           shuffle=True)\n",
    "\n",
    "model = nn.Sequential(\n",
    "            nn.Linear(3072, 512),\n",
    "            nn.Tanh(),\n",
    "            nn.Linear(512, 4),\n",
    "            nn.LogSoftmax(dim=1))\n",
    "\n",
    "learning_rate = 1e-2\n",
    "\n",
    "optimizer = optim.SGD(model.parameters(), lr=learning_rate)\n",
    "\n",
    "loss_fn = nn.NLLLoss()\n",
    "\n",
    "n_epochs = 100\n",
    "\n",
    "for epoch in range(n_epochs):\n",
    "    for imgs, labels in train_loader:\n",
    "        outputs = model(imgs.view(imgs.shape[0], -1))\n",
    "        loss = loss_fn(outputs, labels)\n",
    "\n",
    "        optimizer.zero_grad()\n",
    "        loss.backward()\n",
    "        optimizer.step()\n",
    "\n",
    "    print(\"Epoch: %d, Loss: %f\" % (epoch, float(loss)))"
   ]
  },
  {
   "cell_type": "code",
   "execution_count": 49,
   "metadata": {
    "id": "C9xRLaX0bz58"
   },
   "outputs": [
    {
     "name": "stdout",
     "output_type": "stream",
     "text": [
      "Accuracy: 0.999950\n"
     ]
    }
   ],
   "source": [
    "train_loader = torch.utils.data.DataLoader(cifar2, batch_size=64,\n",
    "                                           shuffle=False)\n",
    "\n",
    "correct = 0\n",
    "total = 0\n",
    "\n",
    "with torch.no_grad():\n",
    "    for imgs, labels in train_loader:\n",
    "        outputs = model(imgs.view(imgs.shape[0], -1))\n",
    "        _, predicted = torch.max(outputs, dim=1)\n",
    "        total += labels.shape[0]\n",
    "        correct += int((predicted == labels).sum())\n",
    "        \n",
    "print(\"Accuracy: %f\" % (correct / total))"
   ]
  },
  {
   "cell_type": "code",
   "execution_count": 50,
   "metadata": {
    "id": "gBR7uB7Xbz58"
   },
   "outputs": [
    {
     "name": "stdout",
     "output_type": "stream",
     "text": [
      "Accuracy: 0.777000\n"
     ]
    }
   ],
   "source": [
    "val_loader = torch.utils.data.DataLoader(cifar2_val, batch_size=64,\n",
    "                                         shuffle=False)\n",
    "\n",
    "correct = 0\n",
    "total = 0\n",
    "\n",
    "with torch.no_grad():\n",
    "    for imgs, labels in val_loader:\n",
    "        outputs = model(imgs.view(imgs.shape[0], -1))\n",
    "        _, predicted = torch.max(outputs, dim=1)\n",
    "        total += labels.shape[0]\n",
    "        correct += int((predicted == labels).sum())\n",
    "        \n",
    "print(\"Accuracy: %f\" % (correct / total))"
   ]
  },
  {
   "cell_type": "code",
   "execution_count": 51,
   "metadata": {
    "id": "QsEEKkd-bz59"
   },
   "outputs": [],
   "source": [
    "model = nn.Sequential(\n",
    "            nn.Linear(3072, 1024),\n",
    "            nn.Tanh(),\n",
    "            nn.Linear(1024, 512),\n",
    "            nn.Tanh(),\n",
    "            nn.Linear(512, 128),\n",
    "            nn.Tanh(),\n",
    "            nn.Linear(128, 2),\n",
    "            nn.LogSoftmax(dim=1))"
   ]
  },
  {
   "cell_type": "code",
   "execution_count": 52,
   "metadata": {
    "id": "oX7QIFghbz59"
   },
   "outputs": [],
   "source": [
    "model = nn.Sequential(\n",
    "            nn.Linear(3072, 1024),\n",
    "            nn.Tanh(),\n",
    "            nn.Linear(1024, 512),\n",
    "            nn.Tanh(),\n",
    "            nn.Linear(512, 128),\n",
    "            nn.Tanh(),\n",
    "            nn.Linear(128, 2))\n",
    "\n",
    "loss_fn = nn.CrossEntropyLoss()"
   ]
  },
  {
   "cell_type": "code",
   "execution_count": 53,
   "metadata": {
    "id": "DA6P3bwcbz59"
   },
   "outputs": [
    {
     "name": "stdout",
     "output_type": "stream",
     "text": [
      "Epoch: 0, Loss: 0.823026\n",
      "Epoch: 1, Loss: 0.638058\n",
      "Epoch: 2, Loss: 0.660956\n",
      "Epoch: 3, Loss: 0.640689\n",
      "Epoch: 4, Loss: 0.619317\n",
      "Epoch: 5, Loss: 0.630605\n",
      "Epoch: 6, Loss: 0.631297\n",
      "Epoch: 7, Loss: 0.568022\n",
      "Epoch: 8, Loss: 0.553457\n",
      "Epoch: 9, Loss: 0.526853\n",
      "Epoch: 10, Loss: 0.449107\n",
      "Epoch: 11, Loss: 0.628612\n",
      "Epoch: 12, Loss: 0.390994\n",
      "Epoch: 13, Loss: 0.704763\n",
      "Epoch: 14, Loss: 0.469556\n",
      "Epoch: 15, Loss: 0.545955\n",
      "Epoch: 16, Loss: 0.427177\n",
      "Epoch: 17, Loss: 0.545322\n",
      "Epoch: 18, Loss: 0.243450\n",
      "Epoch: 19, Loss: 0.343227\n",
      "Epoch: 20, Loss: 0.328343\n",
      "Epoch: 21, Loss: 0.204442\n",
      "Epoch: 22, Loss: 0.151440\n",
      "Epoch: 23, Loss: 0.109108\n",
      "Epoch: 24, Loss: 0.350829\n",
      "Epoch: 25, Loss: 0.067646\n",
      "Epoch: 26, Loss: 0.100494\n",
      "Epoch: 27, Loss: 0.180961\n",
      "Epoch: 28, Loss: 0.204179\n",
      "Epoch: 29, Loss: 0.031449\n",
      "Epoch: 30, Loss: 0.164447\n",
      "Epoch: 31, Loss: 0.033213\n",
      "Epoch: 32, Loss: 0.029114\n",
      "Epoch: 33, Loss: 0.032837\n",
      "Epoch: 34, Loss: 0.027520\n",
      "Epoch: 35, Loss: 0.016238\n",
      "Epoch: 36, Loss: 0.028401\n",
      "Epoch: 37, Loss: 0.016852\n",
      "Epoch: 38, Loss: 0.005309\n",
      "Epoch: 39, Loss: 0.068067\n",
      "Epoch: 40, Loss: 0.010588\n",
      "Epoch: 41, Loss: 0.006803\n",
      "Epoch: 42, Loss: 0.006531\n",
      "Epoch: 43, Loss: 0.015361\n",
      "Epoch: 44, Loss: 0.007811\n",
      "Epoch: 45, Loss: 0.005434\n",
      "Epoch: 46, Loss: 0.005329\n",
      "Epoch: 47, Loss: 0.003857\n",
      "Epoch: 48, Loss: 0.007312\n",
      "Epoch: 49, Loss: 0.006985\n",
      "Epoch: 50, Loss: 0.003670\n",
      "Epoch: 51, Loss: 0.001430\n",
      "Epoch: 52, Loss: 0.005893\n",
      "Epoch: 53, Loss: 0.002102\n",
      "Epoch: 54, Loss: 0.003295\n",
      "Epoch: 55, Loss: 0.003122\n",
      "Epoch: 56, Loss: 0.002094\n",
      "Epoch: 57, Loss: 0.001972\n",
      "Epoch: 58, Loss: 0.001261\n",
      "Epoch: 59, Loss: 0.002392\n",
      "Epoch: 60, Loss: 0.001852\n",
      "Epoch: 61, Loss: 0.001284\n",
      "Epoch: 62, Loss: 0.001006\n",
      "Epoch: 63, Loss: 0.001681\n",
      "Epoch: 64, Loss: 0.001422\n",
      "Epoch: 65, Loss: 0.002429\n",
      "Epoch: 66, Loss: 0.001405\n",
      "Epoch: 67, Loss: 0.001208\n",
      "Epoch: 68, Loss: 0.001972\n",
      "Epoch: 69, Loss: 0.001272\n",
      "Epoch: 70, Loss: 0.001568\n",
      "Epoch: 71, Loss: 0.000531\n",
      "Epoch: 72, Loss: 0.002290\n",
      "Epoch: 73, Loss: 0.001094\n",
      "Epoch: 74, Loss: 0.001560\n",
      "Epoch: 75, Loss: 0.000967\n",
      "Epoch: 76, Loss: 0.001731\n",
      "Epoch: 77, Loss: 0.000887\n",
      "Epoch: 78, Loss: 0.000626\n",
      "Epoch: 79, Loss: 0.000776\n",
      "Epoch: 80, Loss: 0.000749\n",
      "Epoch: 81, Loss: 0.000649\n",
      "Epoch: 82, Loss: 0.001035\n",
      "Epoch: 83, Loss: 0.001340\n",
      "Epoch: 84, Loss: 0.000980\n",
      "Epoch: 85, Loss: 0.000362\n",
      "Epoch: 86, Loss: 0.000447\n",
      "Epoch: 87, Loss: 0.001087\n",
      "Epoch: 88, Loss: 0.001058\n",
      "Epoch: 89, Loss: 0.001038\n",
      "Epoch: 90, Loss: 0.000865\n",
      "Epoch: 91, Loss: 0.000562\n",
      "Epoch: 92, Loss: 0.000977\n",
      "Epoch: 93, Loss: 0.000861\n",
      "Epoch: 94, Loss: 0.000812\n",
      "Epoch: 95, Loss: 0.000251\n",
      "Epoch: 96, Loss: 0.000531\n",
      "Epoch: 97, Loss: 0.000897\n",
      "Epoch: 98, Loss: 0.000635\n",
      "Epoch: 99, Loss: 0.000964\n"
     ]
    }
   ],
   "source": [
    "import torch\n",
    "import torch.nn as nn\n",
    "import torch.optim as optim\n",
    "\n",
    "train_loader = torch.utils.data.DataLoader(cifar2, batch_size=64,\n",
    "                                           shuffle=True)\n",
    "\n",
    "model = nn.Sequential(\n",
    "            nn.Linear(3072, 1024),\n",
    "            nn.Tanh(),\n",
    "            nn.Linear(1024, 512),\n",
    "            nn.Tanh(),\n",
    "            nn.Linear(512, 128),\n",
    "            nn.Tanh(),\n",
    "            nn.Linear(128, 4))\n",
    "\n",
    "learning_rate = 1e-2\n",
    "\n",
    "optimizer = optim.SGD(model.parameters(), lr=learning_rate)\n",
    "\n",
    "loss_fn = nn.CrossEntropyLoss()\n",
    "\n",
    "n_epochs = 100\n",
    "\n",
    "for epoch in range(n_epochs):\n",
    "    for imgs, labels in train_loader:\n",
    "        outputs = model(imgs.view(imgs.shape[0], -1))\n",
    "        loss = loss_fn(outputs, labels)\n",
    "\n",
    "        optimizer.zero_grad()\n",
    "        loss.backward()\n",
    "        optimizer.step()\n",
    "\n",
    "    print(\"Epoch: %d, Loss: %f\" % (epoch, float(loss)))"
   ]
  },
  {
   "cell_type": "code",
   "execution_count": 54,
   "metadata": {
    "id": "5ILJb2XGbz5-"
   },
   "outputs": [
    {
     "name": "stdout",
     "output_type": "stream",
     "text": [
      "Accuracy: 1.000000\n"
     ]
    }
   ],
   "source": [
    "train_loader = torch.utils.data.DataLoader(cifar2, batch_size=64,\n",
    "                                           shuffle=False)\n",
    "\n",
    "correct = 0\n",
    "total = 0\n",
    "\n",
    "with torch.no_grad():\n",
    "    for imgs, labels in train_loader:\n",
    "        outputs = model(imgs.view(imgs.shape[0], -1))\n",
    "        _, predicted = torch.max(outputs, dim=1)\n",
    "        total += labels.shape[0]\n",
    "        correct += int((predicted == labels).sum())\n",
    "        \n",
    "print(\"Accuracy: %f\" % (correct / total))"
   ]
  },
  {
   "cell_type": "code",
   "execution_count": 55,
   "metadata": {
    "id": "lU00XLW9bz5-"
   },
   "outputs": [
    {
     "name": "stdout",
     "output_type": "stream",
     "text": [
      "Accuracy: 0.764000\n"
     ]
    }
   ],
   "source": [
    "val_loader = torch.utils.data.DataLoader(cifar2_val, batch_size=64,\n",
    "                                         shuffle=False)\n",
    "\n",
    "correct = 0\n",
    "total = 0\n",
    "\n",
    "with torch.no_grad():\n",
    "    for imgs, labels in val_loader:\n",
    "        outputs = model(imgs.view(imgs.shape[0], -1))\n",
    "        _, predicted = torch.max(outputs, dim=1)\n",
    "        total += labels.shape[0]\n",
    "        correct += int((predicted == labels).sum())\n",
    "        \n",
    "print(\"Accuracy: %f\" % (correct / total))"
   ]
  },
  {
   "cell_type": "code",
   "execution_count": 56,
   "metadata": {
    "id": "bAwiwIgVbz5-"
   },
   "outputs": [
    {
     "data": {
      "text/plain": [
       "3737732"
      ]
     },
     "execution_count": 56,
     "metadata": {},
     "output_type": "execute_result"
    }
   ],
   "source": [
    "sum([p.numel() for p in model.parameters()])"
   ]
  },
  {
   "cell_type": "code",
   "execution_count": 57,
   "metadata": {
    "id": "GsR5t1uUbz5-"
   },
   "outputs": [
    {
     "data": {
      "text/plain": [
       "3737732"
      ]
     },
     "execution_count": 57,
     "metadata": {},
     "output_type": "execute_result"
    }
   ],
   "source": [
    "sum([p.numel() for p in model.parameters() if p.requires_grad == True])"
   ]
  },
  {
   "cell_type": "code",
   "execution_count": 58,
   "metadata": {
    "id": "6VeOL8kCbz5_"
   },
   "outputs": [
    {
     "data": {
      "text/plain": [
       "1574402"
      ]
     },
     "execution_count": 58,
     "metadata": {},
     "output_type": "execute_result"
    }
   ],
   "source": [
    "first_model = nn.Sequential(\n",
    "                nn.Linear(3072, 512),\n",
    "                nn.Tanh(),\n",
    "                nn.Linear(512, 2),\n",
    "                nn.LogSoftmax(dim=1))\n",
    "\n",
    "sum([p.numel() for p in first_model.parameters()])"
   ]
  },
  {
   "cell_type": "code",
   "execution_count": 59,
   "metadata": {
    "id": "8L1whrHIbz5_"
   },
   "outputs": [
    {
     "data": {
      "text/plain": [
       "1573376"
      ]
     },
     "execution_count": 59,
     "metadata": {},
     "output_type": "execute_result"
    }
   ],
   "source": [
    "sum([p.numel() for p in nn.Linear(3072, 512).parameters()])"
   ]
  },
  {
   "cell_type": "code",
   "execution_count": 60,
   "metadata": {
    "id": "5CCPN5RKbz5_"
   },
   "outputs": [
    {
     "data": {
      "text/plain": [
       "3146752"
      ]
     },
     "execution_count": 60,
     "metadata": {},
     "output_type": "execute_result"
    }
   ],
   "source": [
    "sum([p.numel() for p in nn.Linear(3072, 1024).parameters()])"
   ]
  },
  {
   "cell_type": "code",
   "execution_count": 61,
   "metadata": {
    "id": "XrEEriJjbz6A"
   },
   "outputs": [
    {
     "data": {
      "text/plain": [
       "(torch.Size([1024, 3072]), torch.Size([1024]))"
      ]
     },
     "execution_count": 61,
     "metadata": {},
     "output_type": "execute_result"
    }
   ],
   "source": [
    "linear = nn.Linear(3072, 1024)\n",
    "\n",
    "linear.weight.shape, linear.bias.shape"
   ]
  },
  {
   "cell_type": "code",
   "execution_count": 62,
   "metadata": {
    "id": "HJreNrCWbz6A"
   },
   "outputs": [],
   "source": [
    "conv = nn.Conv2d(3, 16, kernel_size=3)"
   ]
  },
  {
   "cell_type": "code",
   "execution_count": 63,
   "metadata": {
    "id": "uE0cSYQxbz6B"
   },
   "outputs": [
    {
     "data": {
      "text/plain": [
       "torch.Size([16, 3, 3, 3])"
      ]
     },
     "execution_count": 63,
     "metadata": {},
     "output_type": "execute_result"
    }
   ],
   "source": [
    "conv.weight.shape"
   ]
  },
  {
   "cell_type": "code",
   "execution_count": 64,
   "metadata": {
    "id": "CfMXPZwhbz6B"
   },
   "outputs": [
    {
     "data": {
      "text/plain": [
       "torch.Size([16])"
      ]
     },
     "execution_count": 64,
     "metadata": {},
     "output_type": "execute_result"
    }
   ],
   "source": [
    "conv.bias.shape"
   ]
  },
  {
   "cell_type": "code",
   "execution_count": 65,
   "metadata": {
    "id": "uiS23_pWbz6B"
   },
   "outputs": [],
   "source": [
    "img, _ = cifar2[0]\n",
    "\n",
    "output = conv(img.unsqueeze(0))"
   ]
  },
  {
   "cell_type": "code",
   "execution_count": 66,
   "metadata": {
    "id": "vBQgHeOGbz6C"
   },
   "outputs": [
    {
     "data": {
      "text/plain": [
       "(torch.Size([1, 3, 32, 32]), torch.Size([1, 16, 30, 30]))"
      ]
     },
     "execution_count": 66,
     "metadata": {},
     "output_type": "execute_result"
    }
   ],
   "source": [
    "img.unsqueeze(0).shape, output.shape"
   ]
  },
  {
   "cell_type": "code",
   "execution_count": 67,
   "metadata": {
    "id": "D2TKLqsrbz6C"
   },
   "outputs": [
    {
     "name": "stderr",
     "output_type": "stream",
     "text": [
      "Clipping input data to the valid range for imshow with RGB data ([0..1] for floats or [0..255] for integers).\n"
     ]
    },
    {
     "data": {
      "image/png": "[encoded data removed]",
      "text/plain": [
       "<Figure size 432x288 with 1 Axes>"
      ]
     },
     "metadata": {
      "needs_background": "light"
     },
     "output_type": "display_data"
    }
   ],
   "source": [
    "plt.imshow(img.permute(1, 2, 0), cmap='gray')\n",
    "plt.show()"
   ]
  },
  {
   "cell_type": "code",
   "execution_count": 68,
   "metadata": {
    "id": "IphpaYDabz6C"
   },
   "outputs": [
    {
     "data": {
      "image/png": "[encoded data removed]",
      "text/plain": [
       "<Figure size 432x288 with 1 Axes>"
      ]
     },
     "metadata": {
      "needs_background": "light"
     },
     "output_type": "display_data"
    }
   ],
   "source": [
    "plt.imshow(output[0, 0].detach(), cmap='gray')\n",
    "plt.show()"
   ]
  },
  {
   "cell_type": "code",
   "execution_count": 69,
   "metadata": {
    "id": "vRSdaaa4bz6C"
   },
   "outputs": [
    {
     "data": {
      "text/plain": [
       "torch.Size([1, 16, 30, 30])"
      ]
     },
     "execution_count": 69,
     "metadata": {},
     "output_type": "execute_result"
    }
   ],
   "source": [
    "output.shape"
   ]
  },
  {
   "cell_type": "code",
   "execution_count": 70,
   "metadata": {
    "id": "UCEPa-Y_bz6C"
   },
   "outputs": [],
   "source": [
    "conv = nn.Conv2d(3, 1, kernel_size=3, padding=1)"
   ]
  },
  {
   "cell_type": "code",
   "execution_count": 71,
   "metadata": {
    "id": "7b7j5Engbz6D"
   },
   "outputs": [
    {
     "data": {
      "text/plain": [
       "torch.Size([1, 1, 32, 32])"
      ]
     },
     "execution_count": 71,
     "metadata": {},
     "output_type": "execute_result"
    }
   ],
   "source": [
    "output = conv(img.unsqueeze(0))\n",
    "\n",
    "output.shape"
   ]
  },
  {
   "cell_type": "code",
   "execution_count": 72,
   "metadata": {
    "id": "mLpl7WECbz6E"
   },
   "outputs": [],
   "source": [
    "with torch.no_grad():\n",
    "    conv.bias.zero_()"
   ]
  },
  {
   "cell_type": "code",
   "execution_count": 73,
   "metadata": {
    "id": "TkAcl8r9bz6E"
   },
   "outputs": [],
   "source": [
    "with torch.no_grad():\n",
    "    conv.weight.fill_(1.0 / 9.0)"
   ]
  },
  {
   "cell_type": "code",
   "execution_count": 74,
   "metadata": {
    "id": "neqPDlIVbz6E"
   },
   "outputs": [
    {
     "data": {
      "image/png": "[encoded data removed]",
      "text/plain": [
       "<Figure size 432x288 with 1 Axes>"
      ]
     },
     "metadata": {
      "needs_background": "light"
     },
     "output_type": "display_data"
    }
   ],
   "source": [
    "output = conv(img.unsqueeze(0))\n",
    "plt.imshow(output[0, 0].detach(), cmap='gray')\n",
    "plt.show()"
   ]
  },
  {
   "cell_type": "code",
   "execution_count": 75,
   "metadata": {
    "id": "Z3g0oU0fbz6E"
   },
   "outputs": [],
   "source": [
    "conv = nn.Conv2d(3, 1, kernel_size=3, padding=1)\n",
    "\n",
    "with torch.no_grad():\n",
    "    conv.weight[:] = torch.tensor([[-1.0, 0.0, 1.0],\n",
    "                                   [-1.0, 0.0, 1.0],\n",
    "                                   [-1.0, 0.0, 1.0]])\n",
    "    conv.bias.zero_()"
   ]
  },
  {
   "cell_type": "code",
   "execution_count": 76,
   "metadata": {
    "id": "SZZikonmbz6E"
   },
   "outputs": [
    {
     "data": {
      "image/png": "[encoded data removed]",
      "text/plain": [
       "<Figure size 432x288 with 1 Axes>"
      ]
     },
     "metadata": {
      "needs_background": "light"
     },
     "output_type": "display_data"
    }
   ],
   "source": [
    "output = conv(img.unsqueeze(0))\n",
    "plt.imshow(output[0, 0].detach(), cmap='gray')\n",
    "plt.show()"
   ]
  },
  {
   "cell_type": "code",
   "execution_count": 77,
   "metadata": {
    "id": "PZg8nvPDbz6E"
   },
   "outputs": [],
   "source": [
    "pool = nn.MaxPool2d(2)"
   ]
  },
  {
   "cell_type": "code",
   "execution_count": 78,
   "metadata": {
    "id": "hyy5DgMabz6E"
   },
   "outputs": [
    {
     "data": {
      "text/plain": [
       "torch.Size([1, 3, 16, 16])"
      ]
     },
     "execution_count": 78,
     "metadata": {},
     "output_type": "execute_result"
    }
   ],
   "source": [
    "output = pool(img.unsqueeze(0))\n",
    "\n",
    "output.shape"
   ]
  }
 ],
 "metadata": {
  "accelerator": "GPU",
  "colab": {
   "collapsed_sections": [],
   "name": "Homework4Problem1B.ipynb",
   "provenance": []
  },
  "kernelspec": {
   "display_name": "Python 3",
   "language": "python",
   "name": "python3"
  },
  "language_info": {
   "codemirror_mode": {
    "name": "ipython",
    "version": 3
   },
   "file_extension": ".py",
   "mimetype": "text/x-python",
   "name": "python",
   "nbconvert_exporter": "python",
   "pygments_lexer": "ipython3",
   "version": "3.8.5"
  },
  "widgets": {
   "application/vnd.jupyter.widget-state+json": {
    "8d2b603c1fcb403c90ba2d2e7dff5111": {
     "model_module": "@jupyter-widgets/base",
     "model_name": "LayoutModel",
     "state": {
      "_model_module": "@jupyter-widgets/base",
      "_model_module_version": "1.2.0",
      "_model_name": "LayoutModel",
      "_view_count": null,
      "_view_module": "@jupyter-widgets/base",
      "_view_module_version": "1.2.0",
      "_view_name": "LayoutView",
      "align_content": null,
      "align_items": null,
      "align_self": null,
      "border": null,
      "bottom": null,
      "display": null,
      "flex": null,
      "flex_flow": null,
      "grid_area": null,
      "grid_auto_columns": null,
      "grid_auto_flow": null,
      "grid_auto_rows": null,
      "grid_column": null,
      "grid_gap": null,
      "grid_row": null,
      "grid_template_areas": null,
      "grid_template_columns": null,
      "grid_template_rows": null,
      "height": null,
      "justify_content": null,
      "justify_items": null,
      "left": null,
      "margin": null,
      "max_height": null,
      "max_width": null,
      "min_height": null,
      "min_width": null,
      "object_fit": null,
      "object_position": null,
      "order": null,
      "overflow": null,
      "overflow_x": null,
      "overflow_y": null,
      "padding": null,
      "right": null,
      "top": null,
      "visibility": null,
      "width": null
     }
    },
    "95526096f6cf41319c822b60d787affb": {
     "model_module": "@jupyter-widgets/controls",
     "model_name": "ProgressStyleModel",
     "state": {
      "_model_module": "@jupyter-widgets/controls",
      "_model_module_version": "1.5.0",
      "_model_name": "ProgressStyleModel",
      "_view_count": null,
      "_view_module": "@jupyter-widgets/base",
      "_view_module_version": "1.2.0",
      "_view_name": "StyleView",
      "bar_color": null,
      "description_width": "initial"
     }
    },
    "96413d85d7d1421eab28c6a139f1e67d": {
     "model_module": "@jupyter-widgets/base",
     "model_name": "LayoutModel",
     "state": {
      "_model_module": "@jupyter-widgets/base",
      "_model_module_version": "1.2.0",
      "_model_name": "LayoutModel",
      "_view_count": null,
      "_view_module": "@jupyter-widgets/base",
      "_view_module_version": "1.2.0",
      "_view_name": "LayoutView",
      "align_content": null,
      "align_items": null,
      "align_self": null,
      "border": null,
      "bottom": null,
      "display": null,
      "flex": null,
      "flex_flow": null,
      "grid_area": null,
      "grid_auto_columns": null,
      "grid_auto_flow": null,
      "grid_auto_rows": null,
      "grid_column": null,
      "grid_gap": null,
      "grid_row": null,
      "grid_template_areas": null,
      "grid_template_columns": null,
      "grid_template_rows": null,
      "height": null,
      "justify_content": null,
      "justify_items": null,
      "left": null,
      "margin": null,
      "max_height": null,
      "max_width": null,
      "min_height": null,
      "min_width": null,
      "object_fit": null,
      "object_position": null,
      "order": null,
      "overflow": null,
      "overflow_x": null,
      "overflow_y": null,
      "padding": null,
      "right": null,
      "top": null,
      "visibility": null,
      "width": null
     }
    },
    "a1d21ab03dd740ae8d573c69547983ce": {
     "model_module": "@jupyter-widgets/controls",
     "model_name": "DescriptionStyleModel",
     "state": {
      "_model_module": "@jupyter-widgets/controls",
      "_model_module_version": "1.5.0",
      "_model_name": "DescriptionStyleModel",
      "_view_count": null,
      "_view_module": "@jupyter-widgets/base",
      "_view_module_version": "1.2.0",
      "_view_name": "StyleView",
      "description_width": ""
     }
    },
    "c00af6df41ab4715b97fdbafaaaa66b9": {
     "model_module": "@jupyter-widgets/controls",
     "model_name": "HTMLModel",
     "state": {
      "_dom_classes": [],
      "_model_module": "@jupyter-widgets/controls",
      "_model_module_version": "1.5.0",
      "_model_name": "HTMLModel",
      "_view_count": null,
      "_view_module": "@jupyter-widgets/controls",
      "_view_module_version": "1.5.0",
      "_view_name": "HTMLView",
      "description": "",
      "description_tooltip": null,
      "layout": "IPY_MODEL_8d2b603c1fcb403c90ba2d2e7dff5111",
      "placeholder": "​",
      "style": "IPY_MODEL_a1d21ab03dd740ae8d573c69547983ce",
      "value": " 170499072/? [00:11&lt;00:00, 14514521.70it/s]"
     }
    },
    "c34ef7f6fe1448ffaac2faeffaaf101a": {
     "model_module": "@jupyter-widgets/base",
     "model_name": "LayoutModel",
     "state": {
      "_model_module": "@jupyter-widgets/base",
      "_model_module_version": "1.2.0",
      "_model_name": "LayoutModel",
      "_view_count": null,
      "_view_module": "@jupyter-widgets/base",
      "_view_module_version": "1.2.0",
      "_view_name": "LayoutView",
      "align_content": null,
      "align_items": null,
      "align_self": null,
      "border": null,
      "bottom": null,
      "display": null,
      "flex": null,
      "flex_flow": null,
      "grid_area": null,
      "grid_auto_columns": null,
      "grid_auto_flow": null,
      "grid_auto_rows": null,
      "grid_column": null,
      "grid_gap": null,
      "grid_row": null,
      "grid_template_areas": null,
      "grid_template_columns": null,
      "grid_template_rows": null,
      "height": null,
      "justify_content": null,
      "justify_items": null,
      "left": null,
      "margin": null,
      "max_height": null,
      "max_width": null,
      "min_height": null,
      "min_width": null,
      "object_fit": null,
      "object_position": null,
      "order": null,
      "overflow": null,
      "overflow_x": null,
      "overflow_y": null,
      "padding": null,
      "right": null,
      "top": null,
      "visibility": null,
      "width": null
     }
    },
    "f3d56a6e700644028145c34765d1d50f": {
     "model_module": "@jupyter-widgets/controls",
     "model_name": "HBoxModel",
     "state": {
      "_dom_classes": [],
      "_model_module": "@jupyter-widgets/controls",
      "_model_module_version": "1.5.0",
      "_model_name": "HBoxModel",
      "_view_count": null,
      "_view_module": "@jupyter-widgets/controls",
      "_view_module_version": "1.5.0",
      "_view_name": "HBoxView",
      "box_style": "",
      "children": [
       "IPY_MODEL_ff01ac1f9c5d4619b92ab5af39cd3bed",
       "IPY_MODEL_c00af6df41ab4715b97fdbafaaaa66b9"
      ],
      "layout": "IPY_MODEL_c34ef7f6fe1448ffaac2faeffaaf101a"
     }
    },
    "ff01ac1f9c5d4619b92ab5af39cd3bed": {
     "model_module": "@jupyter-widgets/controls",
     "model_name": "FloatProgressModel",
     "state": {
      "_dom_classes": [],
      "_model_module": "@jupyter-widgets/controls",
      "_model_module_version": "1.5.0",
      "_model_name": "FloatProgressModel",
      "_view_count": null,
      "_view_module": "@jupyter-widgets/controls",
      "_view_module_version": "1.5.0",
      "_view_name": "ProgressView",
      "bar_style": "success",
      "description": "",
      "description_tooltip": null,
      "layout": "IPY_MODEL_96413d85d7d1421eab28c6a139f1e67d",
      "max": 170498071,
      "min": 0,
      "orientation": "horizontal",
      "style": "IPY_MODEL_95526096f6cf41319c822b60d787affb",
      "value": 170498071
     }
    }
   }
  }
 },
 "nbformat": 4,
 "nbformat_minor": 1
}
