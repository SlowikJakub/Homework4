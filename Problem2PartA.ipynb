{
  "nbformat": 4,
  "nbformat_minor": 0,
  "metadata": {
    "colab": {
      "name": "Untitled0.ipynb",
      "provenance": [],
      "authorship_tag": "ABX9TyOcE1u57pEqVT3eigofAuzL",
      "include_colab_link": true
    },
    "kernelspec": {
      "name": "python3",
      "display_name": "Python 3"
    },
    "language_info": {
      "name": "python"
    },
    "accelerator": "GPU"
  },
  "cells": [
    {
      "cell_type": "markdown",
      "metadata": {
        "id": "view-in-github",
        "colab_type": "text"
      },
      "source": [
        "<a href=\"https://colab.research.google.com/github/SlowikJakub/Homework4/blob/main/Problem2PartA.ipynb\" target=\"_parent\"><img src=\"https://colab.research.google.com/assets/colab-badge.svg\" alt=\"Open In Colab\"/></a>"
      ]
    },
    {
      "cell_type": "code",
      "metadata": {
        "id": "vabSN9_QkQCg"
      },
      "source": [
        "%matplotlib inline\n",
        "from matplotlib import pyplot as plt\n",
        "import numpy as np\n",
        "import torch\n",
        "import collections\n",
        "class_names = ['airplane','automobile','bird','cat','deer',\n",
        "               'dog','frog','horse','ship','truck']"
      ],
      "execution_count": 127,
      "outputs": []
    },
    {
      "cell_type": "code",
      "metadata": {
        "colab": {
          "base_uri": "https://localhost:8080/"
        },
        "id": "ec6x8QP2k-9W",
        "outputId": "29edaf52-104d-4533-af2c-118b715b9262"
      },
      "source": [
        "from torchvision import datasets, transforms\n",
        "data_path = '../data-unversioned/p1ch7/'\n",
        "cifar10 = datasets.CIFAR10(\n",
        "    data_path, train=True, download=True,\n",
        "    transform=transforms.Compose([\n",
        "        transforms.ToTensor(),\n",
        "        transforms.Normalize((0.4915, 0.4823, 0.4468),\n",
        "                             (0.2470, 0.2435, 0.2616))\n",
        "    ]))"
      ],
      "execution_count": 128,
      "outputs": [
        {
          "output_type": "stream",
          "text": [
            "Files already downloaded and verified\n"
          ],
          "name": "stdout"
        }
      ]
    },
    {
      "cell_type": "code",
      "metadata": {
        "id": "3-mvb1I6lBaP"
      },
      "source": [
        "cifar10_val = datasets.CIFAR10(\n",
        "    data_path, train=False, download=False,\n",
        "    transform=transforms.Compose([\n",
        "        transforms.ToTensor(),\n",
        "        transforms.Normalize((0.4915, 0.4823, 0.4468),\n",
        "                             (0.2470, 0.2435, 0.2616))\n",
        "    ]))"
      ],
      "execution_count": 129,
      "outputs": []
    },
    {
      "cell_type": "code",
      "metadata": {
        "id": "vA7ovs3ClHQ5"
      },
      "source": [
        "label_map = {6:0, 7:1, 8:2, 9:3}\n",
        "class_names = ['frog','horse','ship','truck']\n",
        "cifar2 = [(img, label_map[label])\n",
        "          for img, label in cifar10 \n",
        "          if label in [6,7,8,9]]\n",
        "cifar2_val = [(img, label_map[label])\n",
        "              for img, label in cifar10_val\n",
        "              if label in [6,7,8,9]]"
      ],
      "execution_count": 130,
      "outputs": []
    },
    {
      "cell_type": "code",
      "metadata": {
        "colab": {
          "base_uri": "https://localhost:8080/"
        },
        "id": "GhKEGVPXlSa-",
        "outputId": "445971fe-1df5-4896-adc5-bad46614cadb"
      },
      "source": [
        "import torch.nn as nn\n",
        "img, _ = cifar2[0]\n",
        "pool=nn.MaxPool2d(2)\n",
        "output=pool(img.unsqueeze(0))\n",
        "img.unsqueeze(0).shape , output.shape"
      ],
      "execution_count": 131,
      "outputs": [
        {
          "output_type": "execute_result",
          "data": {
            "text/plain": [
              "(torch.Size([1, 3, 32, 32]), torch.Size([1, 3, 16, 16]))"
            ]
          },
          "metadata": {
            "tags": []
          },
          "execution_count": 131
        }
      ]
    },
    {
      "cell_type": "code",
      "metadata": {
        "id": "XPL4UbidrogO"
      },
      "source": [
        "model= nn.Sequential(\n",
        "    nn.Conv2d(3,16, kernel_size=3, padding=1),\n",
        "    nn.Tanh(),\n",
        "    nn.MaxPool2d(2),\n",
        "    nn.Conv2d(3,16, kernel_size=3, padding=1),\n",
        "    nn.Tanh(),\n",
        "    nn.MaxPool2d(2),\n",
        "    nn.Linear(8*8*8,32),\n",
        "    nn.Tanh(),\n",
        "    nn.Linear(32,4)\n",
        ")"
      ],
      "execution_count": 132,
      "outputs": []
    },
    {
      "cell_type": "code",
      "metadata": {
        "id": "ZC115hfamAGQ"
      },
      "source": [
        "import torch.nn as nn\n",
        "class Net(nn.Module):\n",
        "  def __init__(self):\n",
        "    super().__init__()\n",
        "    self.conv1=nn.Conv2d(3,16, kernel_size=3, padding=1)\n",
        "    self.act1=nn.Tanh()\n",
        "    self.pool1=nn.MaxPool2d(2)\n",
        "    self.conv2=nn.Conv2d(16,8, kernel_size=3, padding=1)\n",
        "    self.act2=nn.Tanh()\n",
        "    self.pool2=nn.MaxPool2d(2)\n",
        "    self.fc1=nn.Linear(8*8*8,32)\n",
        "    self.act3=nn.Tanh()\n",
        "    self.fc2=nn.Linear(32,4)\n",
        "  \n",
        "\n",
        "  def forward(self,x):\n",
        "    out = self.pool1(self.act1(self.conv1(x)))\n",
        "    out = self.pool2(self.act2(self.conv2(out)))\n",
        "    out = out.view(-1, 8*8*8)\n",
        "    out = self.act3(self.fc1(out))\n",
        "    out = self.fc2(out)\n",
        "    return out"
      ],
      "execution_count": 133,
      "outputs": []
    },
    {
      "cell_type": "code",
      "metadata": {
        "colab": {
          "base_uri": "https://localhost:8080/"
        },
        "id": "H1BS5zNUwbVQ",
        "outputId": "dbd168fb-4d2a-492c-aecf-649ea7e2c697"
      },
      "source": [
        "device = (torch.device('cuda') if torch.cuda.is_available()\n",
        "          else torch.device('cpu'))\n",
        "print(f\"Training on device {device}.\")"
      ],
      "execution_count": 134,
      "outputs": [
        {
          "output_type": "stream",
          "text": [
            "Training on device cuda.\n"
          ],
          "name": "stdout"
        }
      ]
    },
    {
      "cell_type": "code",
      "metadata": {
        "id": "7hW-UpwGoFQj"
      },
      "source": [
        "import datetime\n",
        "\n",
        "def training_loop(n_epochs, optimizer, model, loss_fn, train_loader):\n",
        "    for epoch in range(1, n_epochs + 1):\n",
        "        loss_train = 0.0\n",
        "        \n",
        "        for imgs, labels in train_loader:\n",
        "            imgs = imgs.to(device=device)  # <1>\n",
        "            labels = labels.to(device=device)\n",
        "            outputs = model(imgs)\n",
        "            loss = loss_fn(outputs, labels)\n",
        "\n",
        "            optimizer.zero_grad()\n",
        "            loss.backward()\n",
        "            optimizer.step()\n",
        "\n",
        "            loss_train += loss.item()\n",
        "\n",
        "        if epoch == 1 or epoch % 10 == 0:\n",
        "            print('{} Epoch {}, Training loss {}'.format(\n",
        "                datetime.datetime.now(), epoch,\n",
        "                loss_train / len(train_loader)))"
      ],
      "execution_count": 135,
      "outputs": []
    },
    {
      "cell_type": "code",
      "metadata": {
        "colab": {
          "base_uri": "https://localhost:8080/"
        },
        "id": "lA_hURzEqGjp",
        "outputId": "9b418fba-2f58-4d64-d902-84448d2d0c5d"
      },
      "source": [
        "import torch\n",
        "import torch.nn as nn\n",
        "import torch.optim as optim\n",
        "train_loader = torch.utils.data.DataLoader(cifar2, batch_size=64, shuffle =True)\n",
        "\n",
        "model= Net().to(device=device)\n",
        "optimizer = optim.SGD(model.parameters(),lr=1e-2)\n",
        "loss_fn = nn.CrossEntropyLoss()\n",
        "\n",
        "training_loop(\n",
        "    n_epochs=200,\n",
        "    optimizer =optimizer,\n",
        "    model = model,\n",
        "    loss_fn = loss_fn,\n",
        "    train_loader=train_loader\n",
        ")"
      ],
      "execution_count": 136,
      "outputs": [
        {
          "output_type": "stream",
          "text": [
            "2021-04-22 23:06:59.092095 Epoch 1, Training loss 1.0699136112444698\n",
            "2021-04-22 23:07:04.919731 Epoch 10, Training loss 0.4993469786529724\n",
            "2021-04-22 23:07:11.361872 Epoch 20, Training loss 0.3528493664706477\n",
            "2021-04-22 23:07:17.734744 Epoch 30, Training loss 0.2798590539172054\n",
            "2021-04-22 23:07:24.109140 Epoch 40, Training loss 0.23422024113396867\n",
            "2021-04-22 23:07:30.479777 Epoch 50, Training loss 0.19962730908546203\n",
            "2021-04-22 23:07:36.854436 Epoch 60, Training loss 0.17615672075948396\n",
            "2021-04-22 23:07:43.237813 Epoch 70, Training loss 0.15454454340350132\n",
            "2021-04-22 23:07:49.551665 Epoch 80, Training loss 0.13741389936960924\n",
            "2021-04-22 23:07:56.000947 Epoch 90, Training loss 0.12206913000002456\n",
            "2021-04-22 23:08:02.409266 Epoch 100, Training loss 0.10807443782092092\n",
            "2021-04-22 23:08:08.817503 Epoch 110, Training loss 0.09513300078840682\n",
            "2021-04-22 23:08:15.226729 Epoch 120, Training loss 0.08345854238342172\n",
            "2021-04-22 23:08:21.636718 Epoch 130, Training loss 0.0744200095076102\n",
            "2021-04-22 23:08:28.089638 Epoch 140, Training loss 0.06498398771658302\n",
            "2021-04-22 23:08:34.492640 Epoch 150, Training loss 0.05712607161650737\n",
            "2021-04-22 23:08:40.890256 Epoch 160, Training loss 0.04872232425612764\n",
            "2021-04-22 23:08:47.277664 Epoch 170, Training loss 0.04330033934957827\n",
            "2021-04-22 23:08:53.637342 Epoch 180, Training loss 0.038943431997737185\n",
            "2021-04-22 23:09:00.095318 Epoch 190, Training loss 0.033918461557061144\n",
            "2021-04-22 23:09:06.605407 Epoch 200, Training loss 0.028863151263171873\n"
          ],
          "name": "stdout"
        }
      ]
    },
    {
      "cell_type": "code",
      "metadata": {
        "colab": {
          "base_uri": "https://localhost:8080/"
        },
        "id": "TklkBzzNxStH",
        "outputId": "f58e921c-53f2-41de-eacd-25cfb5fd6902"
      },
      "source": [
        "train_loader = torch.utils.data.DataLoader(cifar2, batch_size=64,\n",
        "                                           shuffle=False)\n",
        "val_loader = torch.utils.data.DataLoader(cifar2_val, batch_size=64,\n",
        "                                         shuffle=False)\n",
        "all_acc_dict = collections.OrderedDict()\n",
        "\n",
        "def validate(model, train_loader, val_loader):\n",
        "    accdict = {}\n",
        "    for name, loader in [(\"train\", train_loader), (\"val\", val_loader)]:\n",
        "        correct = 0\n",
        "        total = 0\n",
        "\n",
        "        with torch.no_grad():\n",
        "            for imgs, labels in loader:\n",
        "                imgs = imgs.to(device=device)\n",
        "                labels = labels.to(device=device)\n",
        "                outputs = model(imgs)\n",
        "                _, predicted = torch.max(outputs, dim=1) # <1>\n",
        "                total += labels.shape[0]\n",
        "                correct += int((predicted == labels).sum())\n",
        "\n",
        "        print(\"Accuracy {}: {:.2f}\".format(name , correct / total))\n",
        "        accdict[name] = correct / total\n",
        "    return accdict\n",
        "\n",
        "validate(model, train_loader, val_loader)\n"
      ],
      "execution_count": 137,
      "outputs": [
        {
          "output_type": "stream",
          "text": [
            "Accuracy train: 1.00\n",
            "Accuracy val: 0.91\n"
          ],
          "name": "stdout"
        },
        {
          "output_type": "execute_result",
          "data": {
            "text/plain": [
              "{'train': 0.99745, 'val': 0.90625}"
            ]
          },
          "metadata": {
            "tags": []
          },
          "execution_count": 137
        }
      ]
    }
  ]
}