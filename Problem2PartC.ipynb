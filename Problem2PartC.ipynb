{
  "nbformat": 4,
  "nbformat_minor": 0,
  "metadata": {
    "colab": {
      "name": "Untitled0.ipynb",
      "provenance": [],
      "authorship_tag": "ABX9TyN/VRPKhZ2HyHOe46Qj0n5v",
      "include_colab_link": true
    },
    "kernelspec": {
      "name": "python3",
      "display_name": "Python 3"
    },
    "language_info": {
      "name": "python"
    },
    "accelerator": "GPU"
  },
  "cells": [
    {
      "cell_type": "markdown",
      "metadata": {
        "id": "view-in-github",
        "colab_type": "text"
      },
      "source": [
        "<a href=\"https://colab.research.google.com/github/SlowikJakub/Homework4/blob/main/Problem2PartC.ipynb\" target=\"_parent\"><img src=\"https://colab.research.google.com/assets/colab-badge.svg\" alt=\"Open In Colab\"/></a>"
      ]
    },
    {
      "cell_type": "code",
      "metadata": {
        "id": "vabSN9_QkQCg"
      },
      "source": [
        "%matplotlib inline\n",
        "from matplotlib import pyplot as plt\n",
        "import numpy as np\n",
        "import torch\n",
        "import collections\n",
        "class_names = ['airplane','automobile','bird','cat','deer',\n",
        "               'dog','frog','horse','ship','truck']"
      ],
      "execution_count": 211,
      "outputs": []
    },
    {
      "cell_type": "code",
      "metadata": {
        "colab": {
          "base_uri": "https://localhost:8080/"
        },
        "id": "ec6x8QP2k-9W",
        "outputId": "4ef614a3-58e7-4722-e5a2-4c33246b7b44"
      },
      "source": [
        "from torchvision import datasets, transforms\n",
        "data_path = '../data-unversioned/p1ch7/'\n",
        "cifar10 = datasets.CIFAR10(\n",
        "    data_path, train=True, download=True,\n",
        "    transform=transforms.Compose([\n",
        "        transforms.ToTensor(),\n",
        "        transforms.Normalize((0.4915, 0.4823, 0.4468),\n",
        "                             (0.2470, 0.2435, 0.2616))\n",
        "    ]))"
      ],
      "execution_count": 212,
      "outputs": [
        {
          "output_type": "stream",
          "text": [
            "Files already downloaded and verified\n"
          ],
          "name": "stdout"
        }
      ]
    },
    {
      "cell_type": "code",
      "metadata": {
        "id": "3-mvb1I6lBaP"
      },
      "source": [
        "cifar10_val = datasets.CIFAR10(\n",
        "    data_path, train=False, download=False,\n",
        "    transform=transforms.Compose([\n",
        "        transforms.ToTensor(),\n",
        "        transforms.Normalize((0.4915, 0.4823, 0.4468),\n",
        "                             (0.2470, 0.2435, 0.2616))\n",
        "    ]))"
      ],
      "execution_count": 213,
      "outputs": []
    },
    {
      "cell_type": "code",
      "metadata": {
        "colab": {
          "base_uri": "https://localhost:8080/"
        },
        "id": "GhKEGVPXlSa-",
        "outputId": "8faebfe1-d19e-4bd6-9570-d8def1cdf659"
      },
      "source": [
        "import torch.nn as nn\n",
        "img, _ = cifar10[0]\n",
        "pool=nn.MaxPool2d(2)\n",
        "output=pool(img.unsqueeze(0))\n",
        "img.unsqueeze(0).shape , output.shape"
      ],
      "execution_count": 214,
      "outputs": [
        {
          "output_type": "execute_result",
          "data": {
            "text/plain": [
              "(torch.Size([1, 3, 32, 32]), torch.Size([1, 3, 16, 16]))"
            ]
          },
          "metadata": {
            "tags": []
          },
          "execution_count": 214
        }
      ]
    },
    {
      "cell_type": "code",
      "metadata": {
        "id": "XPL4UbidrogO"
      },
      "source": [
        "model= nn.Sequential(\n",
        "    nn.Conv2d(3,16, kernel_size=3, padding=1),\n",
        "    nn.Tanh(),\n",
        "    nn.MaxPool2d(2),\n",
        "    nn.Conv2d(3,16, kernel_size=3, padding=1),\n",
        "    nn.Tanh(),\n",
        "    nn.MaxPool2d(2),\n",
        "    nn.Linear(8*8*8,32),\n",
        "    nn.Tanh(),\n",
        "    nn.Linear(32,4)\n",
        ")"
      ],
      "execution_count": 215,
      "outputs": []
    },
    {
      "cell_type": "code",
      "metadata": {
        "id": "ZC115hfamAGQ"
      },
      "source": [
        "import torch.nn as nn\n",
        "class Net(nn.Module):\n",
        "  def __init__(self):\n",
        "    super().__init__()\n",
        "    self.conv1=nn.Conv2d(3,32, kernel_size=3, padding=1)\n",
        "    self.act1=nn.Tanh()\n",
        "    self.pool1=nn.MaxPool2d(2)\n",
        "    self.conv2=nn.Conv2d(32,16, kernel_size=3, padding=1)\n",
        "    self.act2=nn.Tanh()\n",
        "    self.pool2=nn.MaxPool2d(2)\n",
        "    self.conv3=nn.Conv2d(16,16, kernel_size=3, padding=1)\n",
        "    self.act3=nn.Tanh()\n",
        "    self.pool3=nn.MaxPool2d(2)\n",
        "    self.fc1=nn.Linear(4*4*16,32)\n",
        "    self.act4=nn.Tanh()\n",
        "    self.fc2=nn.Linear(32,10)\n",
        "  \n",
        "\n",
        "  def forward(self,x):\n",
        "    out = self.pool1(self.act1(self.conv1(x)))\n",
        "    out = self.pool2(self.act2(self.conv2(out)))\n",
        "    out = self.pool3(self.act3(self.conv3(out)))\n",
        "    out = out.view(-1, 4*4*16)\n",
        "    out = self.act3(self.fc1(out))\n",
        "    out = self.fc2(out)\n",
        "    return out"
      ],
      "execution_count": 216,
      "outputs": []
    },
    {
      "cell_type": "code",
      "metadata": {
        "colab": {
          "base_uri": "https://localhost:8080/"
        },
        "id": "H1BS5zNUwbVQ",
        "outputId": "6cae52f8-53bc-402d-f526-9fafa32c6525"
      },
      "source": [
        "device = (torch.device('cuda') if torch.cuda.is_available()\n",
        "          else torch.device('cpu'))\n",
        "print(f\"Training on device {device}.\")"
      ],
      "execution_count": 217,
      "outputs": [
        {
          "output_type": "stream",
          "text": [
            "Training on device cuda.\n"
          ],
          "name": "stdout"
        }
      ]
    },
    {
      "cell_type": "code",
      "metadata": {
        "id": "7hW-UpwGoFQj"
      },
      "source": [
        "import datetime\n",
        "\n",
        "def training_loop(n_epochs, optimizer, model, loss_fn, train_loader):\n",
        "    for epoch in range(1, n_epochs + 1):\n",
        "        loss_train = 0.0\n",
        "        \n",
        "        for imgs, labels in train_loader:\n",
        "            imgs = imgs.to(device=device)  # <1>\n",
        "            labels = labels.to(device=device)\n",
        "            outputs = model(imgs)\n",
        "            loss = loss_fn(outputs, labels)\n",
        "\n",
        "            optimizer.zero_grad()\n",
        "            loss.backward()\n",
        "            optimizer.step()\n",
        "\n",
        "            loss_train += loss.item()\n",
        "\n",
        "        if epoch == 1 or epoch % 10 == 0:\n",
        "            print('{} Epoch {}, Training loss {}'.format(\n",
        "                datetime.datetime.now(), epoch,\n",
        "                loss_train / len(train_loader)))"
      ],
      "execution_count": 218,
      "outputs": []
    },
    {
      "cell_type": "code",
      "metadata": {
        "colab": {
          "base_uri": "https://localhost:8080/"
        },
        "id": "lA_hURzEqGjp",
        "outputId": "4744a265-450d-405d-d762-d0ee5458bbb1"
      },
      "source": [
        "import torch\n",
        "import torch.nn as nn\n",
        "import torch.optim as optim\n",
        "train_loader = torch.utils.data.DataLoader(cifar10, batch_size=64, shuffle =True)\n",
        "\n",
        "model= Net().to(device=device)\n",
        "optimizer = optim.SGD(model.parameters(),lr=1e-2)\n",
        "loss_fn = nn.CrossEntropyLoss()\n",
        "\n",
        "training_loop(\n",
        "    n_epochs=200,\n",
        "    optimizer =optimizer,\n",
        "    model = model,\n",
        "    loss_fn = loss_fn,\n",
        "    train_loader=train_loader\n",
        ")"
      ],
      "execution_count": 219,
      "outputs": [
        {
          "output_type": "stream",
          "text": [
            "2021-04-23 00:55:44.420030 Epoch 1, Training loss 2.1074333828123635\n",
            "2021-04-23 00:57:14.129464 Epoch 10, Training loss 1.2060491252890633\n",
            "2021-04-23 00:58:51.889770 Epoch 20, Training loss 0.9448688880104543\n",
            "2021-04-23 01:00:29.535914 Epoch 30, Training loss 0.8285440394030813\n",
            "2021-04-23 01:02:07.370131 Epoch 40, Training loss 0.7598859531342831\n",
            "2021-04-23 01:03:45.391792 Epoch 50, Training loss 0.7133285114756021\n",
            "2021-04-23 01:05:22.848308 Epoch 60, Training loss 0.675482205036656\n",
            "2021-04-23 01:06:59.343447 Epoch 70, Training loss 0.6468949716947877\n",
            "2021-04-23 01:08:36.907175 Epoch 80, Training loss 0.6191193445792893\n",
            "2021-04-23 01:10:14.723400 Epoch 90, Training loss 0.5976987599259447\n",
            "2021-04-23 01:11:56.409471 Epoch 100, Training loss 0.5787103752727094\n",
            "2021-04-23 01:13:35.897401 Epoch 110, Training loss 0.5602724673726674\n",
            "2021-04-23 01:15:16.450826 Epoch 120, Training loss 0.5434890427171727\n",
            "2021-04-23 01:16:57.686305 Epoch 130, Training loss 0.5273586926824602\n",
            "2021-04-23 01:18:35.979732 Epoch 140, Training loss 0.5160755842085689\n",
            "2021-04-23 01:20:17.702599 Epoch 150, Training loss 0.5049316752749635\n",
            "2021-04-23 01:21:56.870346 Epoch 160, Training loss 0.49148741126289147\n",
            "2021-04-23 01:23:35.563708 Epoch 170, Training loss 0.4811913693690544\n",
            "2021-04-23 01:25:14.290305 Epoch 180, Training loss 0.47052782754916367\n",
            "2021-04-23 01:26:52.819707 Epoch 190, Training loss 0.4627061825045539\n",
            "2021-04-23 01:28:31.221807 Epoch 200, Training loss 0.4535805251249267\n"
          ],
          "name": "stdout"
        }
      ]
    },
    {
      "cell_type": "code",
      "metadata": {
        "colab": {
          "base_uri": "https://localhost:8080/"
        },
        "id": "TklkBzzNxStH",
        "outputId": "8d929cc0-19c1-4be6-ef04-bbfc9bf6221f"
      },
      "source": [
        "train_loader = torch.utils.data.DataLoader(cifar10, batch_size=128,\n",
        "                                           shuffle=False)\n",
        "val_loader = torch.utils.data.DataLoader(cifar10_val, batch_size=128,\n",
        "                                         shuffle=False)\n",
        "all_acc_dict = collections.OrderedDict()\n",
        "\n",
        "def validate(model, train_loader, val_loader):\n",
        "    accdict = {}\n",
        "    for name, loader in [(\"train\", train_loader), (\"val\", val_loader)]:\n",
        "        correct = 0\n",
        "        total = 0\n",
        "\n",
        "        with torch.no_grad():\n",
        "            for imgs, labels in loader:\n",
        "                imgs = imgs.to(device=device)\n",
        "                labels = labels.to(device=device)\n",
        "                outputs = model(imgs)\n",
        "                _, predicted = torch.max(outputs, dim=1) # <1>\n",
        "                total += labels.shape[0]\n",
        "                correct += int((predicted == labels).sum())\n",
        "\n",
        "        print(\"Accuracy {}: {:.2f}\".format(name , correct / total))\n",
        "        accdict[name] = correct / total\n",
        "    return accdict\n",
        "\n",
        "validate(model, train_loader, val_loader)\n"
      ],
      "execution_count": 220,
      "outputs": [
        {
          "output_type": "stream",
          "text": [
            "Accuracy train: 0.84\n",
            "Accuracy val: 0.70\n"
          ],
          "name": "stdout"
        },
        {
          "output_type": "execute_result",
          "data": {
            "text/plain": [
              "{'train': 0.83674, 'val': 0.6953}"
            ]
          },
          "metadata": {
            "tags": []
          },
          "execution_count": 220
        }
      ]
    }
  ]
}